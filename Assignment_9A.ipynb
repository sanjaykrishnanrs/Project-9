{
  "nbformat": 4,
  "nbformat_minor": 0,
  "metadata": {
    "colab": {
      "name": "Assignment 9A.ipynb",
      "version": "0.3.2",
      "provenance": [],
      "collapsed_sections": [
        "4bMiFaFUQX61",
        "YXJX8rXXVBC_",
        "6Y0zotYDrfyK",
        "lKkoMIE-RJEd",
        "Ro5AhujOQwz8",
        "y4XCAqE8Q0ry"
      ]
    },
    "kernelspec": {
      "name": "python3",
      "display_name": "Python 3"
    },
    "accelerator": "GPU"
  },
  "cells": [
    {
      "cell_type": "markdown",
      "metadata": {
        "id": "4bMiFaFUQX61",
        "colab_type": "text"
      },
      "source": [
        "#Training Without CutOut"
      ]
    },
    {
      "cell_type": "code",
      "metadata": {
        "id": "KkwXnw9OfHZl",
        "colab_type": "code",
        "outputId": "2db4814f-7834-4fc3-d35a-7f4b383e1459",
        "colab": {
          "base_uri": "https://localhost:8080/",
          "height": 35
        }
      },
      "source": [
        "# Installing Keras Library and importing the same.\n",
        "# Reference: https://keras.io/\n",
        "from keras import backend as K\n",
        "\n",
        "import time\n",
        "# Matplot library used for plotting images and charts\n",
        "import matplotlib.pyplot as plt\n",
        "\n",
        "# Numpy is library used for efficient high level mathemtical processing on multi dimensional arrays\n",
        "import numpy as np\n",
        "% matplotlib inline\n",
        "np.random.seed(2017) \n",
        "\n",
        "# Keras provides a Sequential model API. This is way of creating a linear stack of layers while creating models.\n",
        "from keras.models import Sequential\n",
        "\n",
        "# Convolution2D will be used to create a convolution kernel that is convolved with the layer input to produce a tensor of outputs\n",
        "from keras.layers.convolutional import Convolution2D, MaxPooling2D\n",
        "\n",
        "# Flatten provided by Keras will be used to convert a multidimensional tensor into a single 1-D tensor\n",
        "from keras.layers import Activation, Flatten, Dropout\n",
        "from keras.layers.normalization import BatchNormalization\n",
        "\n",
        "# Import np_utils from keras\n",
        "from keras.utils import np_utils"
      ],
      "execution_count": 1,
      "outputs": [
        {
          "output_type": "stream",
          "text": [
            "Using TensorFlow backend.\n"
          ],
          "name": "stderr"
        }
      ]
    },
    {
      "cell_type": "code",
      "metadata": {
        "id": "NHpnoCHZfO8g",
        "colab_type": "code",
        "outputId": "4d2dd1aa-07a1-47f1-c7f1-005ff28581a1",
        "colab": {
          "base_uri": "https://localhost:8080/",
          "height": 52
        }
      },
      "source": [
        "# Loads CIFAR10 dataset\n",
        "# 'features' values will have images, 'labels' will have the names represented by the corresponding 'feature' image\n",
        "from keras.datasets import cifar10\n",
        "(train_features, train_labels), (test_features, test_labels) = cifar10.load_data()\n",
        "num_train, img_channels, img_rows, img_cols =  train_features.shape\n",
        "num_test, _, _, _ =  test_features.shape\n",
        "num_classes = len(np.unique(train_labels))"
      ],
      "execution_count": 2,
      "outputs": [
        {
          "output_type": "stream",
          "text": [
            "Downloading data from https://www.cs.toronto.edu/~kriz/cifar-10-python.tar.gz\n",
            "170500096/170498071 [==============================] - 2s 0us/step\n"
          ],
          "name": "stdout"
        }
      ]
    },
    {
      "cell_type": "code",
      "metadata": {
        "id": "C0Y3urSNH9U8",
        "colab_type": "code",
        "outputId": "e1e086d8-df78-47fe-af80-07c8a7129df6",
        "colab": {
          "base_uri": "https://localhost:8080/",
          "height": 125
        }
      },
      "source": [
        "#Connecting Gdrive\n",
        "from google.colab import drive\n",
        "drive.mount('/content/drive')"
      ],
      "execution_count": 3,
      "outputs": [
        {
          "output_type": "stream",
          "text": [
            "Go to this URL in a browser: https://accounts.google.com/o/oauth2/auth?client_id=947318989803-6bn6qk8qdgf4n4g3pfee6491hc0brc4i.apps.googleusercontent.com&redirect_uri=urn%3Aietf%3Awg%3Aoauth%3A2.0%3Aoob&scope=email%20https%3A%2F%2Fwww.googleapis.com%2Fauth%2Fdocs.test%20https%3A%2F%2Fwww.googleapis.com%2Fauth%2Fdrive%20https%3A%2F%2Fwww.googleapis.com%2Fauth%2Fdrive.photos.readonly%20https%3A%2F%2Fwww.googleapis.com%2Fauth%2Fpeopleapi.readonly&response_type=code\n",
            "\n",
            "Enter your authorization code:\n",
            "··········\n",
            "Mounted at /content/drive\n"
          ],
          "name": "stdout"
        }
      ]
    },
    {
      "cell_type": "code",
      "metadata": {
        "id": "14HyBUXdfS6G",
        "colab_type": "code",
        "outputId": "e224672b-e4f9-482a-86f4-5ec6066a03da",
        "colab": {
          "base_uri": "https://localhost:8080/",
          "height": 213
        }
      },
      "source": [
        "# Let's see some random features(images) with labels from training dataset\n",
        "class_names = ['airplane','automobile','bird','cat','deer',\n",
        "               'dog','frog','horse','ship','truck']\n",
        "fig = plt.figure(figsize=(8,3))\n",
        "for i in range(num_classes):\n",
        "    ax = fig.add_subplot(2, 5, 1 + i, xticks=[], yticks=[])\n",
        "    idx = np.where(train_labels[:]==i)[0]\n",
        "    features_idx = train_features[idx,::]\n",
        "    img_num = np.random.randint(features_idx.shape[0])\n",
        "    im = features_idx[img_num]\n",
        "    ax.set_title(class_names[i])\n",
        "    plt.imshow(im)\n",
        "plt.show()"
      ],
      "execution_count": 4,
      "outputs": [
        {
          "output_type": "display_data",
          "data": {
            "image/png": "[encoded data removed]",
            "text/plain": [
              "<Figure size 576x216 with 10 Axes>"
            ]
          },
          "metadata": {
            "tags": []
          }
        }
      ]
    },
    {
      "cell_type": "code",
      "metadata": {
        "id": "bmfsk76-fadV",
        "colab_type": "code",
        "colab": {}
      },
      "source": [
        "# Function to plot charts showing 'Model Accuracy vs Epoch' and 'Model Loss vs Epoch'\n",
        "def plot_model_history(model_history):\n",
        "    fig, axs = plt.subplots(1,2,figsize=(15,5))\n",
        "    # summarize history for accuracy\n",
        "    axs[0].plot(range(1,len(model_history.history['acc'])+1),model_history.history['acc'])\n",
        "    axs[0].plot(range(1,len(model_history.history['val_acc'])+1),model_history.history['val_acc'])\n",
        "    axs[0].set_title('Model Accuracy')\n",
        "    axs[0].set_ylabel('Accuracy')\n",
        "    axs[0].set_xlabel('Epoch')\n",
        "    axs[0].set_xticks(np.arange(1,len(model_history.history['acc'])+1),len(model_history.history['acc'])/10)\n",
        "    axs[0].legend(['train', 'val'], loc='best')\n",
        "    # summarize history for loss\n",
        "    axs[1].plot(range(1,len(model_history.history['loss'])+1),model_history.history['loss'])\n",
        "    axs[1].plot(range(1,len(model_history.history['val_loss'])+1),model_history.history['val_loss'])\n",
        "    axs[1].set_title('Model Loss')\n",
        "    axs[1].set_ylabel('Loss')\n",
        "    axs[1].set_xlabel('Epoch')\n",
        "    axs[1].set_xticks(np.arange(1,len(model_history.history['loss'])+1),len(model_history.history['loss'])/10)\n",
        "    axs[1].legend(['train', 'val'], loc='best')\n",
        "    plt.show()"
      ],
      "execution_count": 0,
      "outputs": []
    },
    {
      "cell_type": "code",
      "metadata": {
        "id": "YJMT4rjgfdZz",
        "colab_type": "code",
        "colab": {}
      },
      "source": [
        "# Function to calculate the Test Accuracy on test dataset\n",
        "def accuracy(test_x, test_y, model):\n",
        "    result = model.predict(test_x)\n",
        "    predicted_class = np.argmax(result, axis=1)\n",
        "    true_class = np.argmax(test_y, axis=1)\n",
        "    num_correct = np.sum(predicted_class == true_class) \n",
        "    accuracy = float(num_correct)/result.shape[0]\n",
        "    return (accuracy * 100)"
      ],
      "execution_count": 0,
      "outputs": []
    },
    {
      "cell_type": "code",
      "metadata": {
        "id": "T5c5nDvxm6zR",
        "colab_type": "code",
        "colab": {}
      },
      "source": [
        "# Why Float32?\n",
        "# Using a 32 bit precision is a common approach in neural network training.\n",
        "# Reason behind is that to make sure that the dataset fits easily in RAM.\n",
        "\n",
        "# Why dividing by 255?\n",
        "# 255 is the max pixel value in an image. Dividing all pixel values by 255 ensures that the input features are scaled between 0.0 and 1.0\n",
        "# Reason behind to scale between 0.0 and 1.0 is to make sure default learning rate works well.\n",
        "\n",
        "train_features = train_features.astype('float32')/255\n",
        "test_features = test_features.astype('float32')/255\n",
        "\n",
        "# convert class labels to binary class labels\n",
        "train_labels = np_utils.to_categorical(train_labels, num_classes)\n",
        "test_labels = np_utils.to_categorical(test_labels, num_classes)"
      ],
      "execution_count": 0,
      "outputs": []
    },
    {
      "cell_type": "code",
      "metadata": {
        "id": "cSOb2lkJfhVq",
        "colab_type": "code",
        "outputId": "5a2d36b6-5880-447e-f6d1-6de32daa1609",
        "colab": {
          "base_uri": "https://localhost:8080/",
          "height": 560
        }
      },
      "source": [
        "# Initializing Sequential API as we will be creating model in a linear stack way\n",
        "model = Sequential()\n",
        "\n",
        "######################BLOCK STARTS##############################################\n",
        "# Input Dimension  = 32x32x3\n",
        "# Kernel           = 3x3x3\n",
        "# No:of Kernels    = 64\n",
        "# Output Dimension = 32x32x64 (Here,64 is the number of channels)\n",
        "# Receptive Field  = 3x3  \n",
        "model.add(Convolution2D(64, 3, 3, border_mode='same', input_shape=(32, 32, 3)))\n",
        "model.add(BatchNormalization())\n",
        "model.add(Activation('relu'))\n",
        "model.add(Dropout(0.1))\n",
        "######################BLOCK ENDS################################################\n",
        "\n",
        "\n",
        "######################BLOCK STARTS##############################################\n",
        "# Input Dimension  = 32x32x64\n",
        "# Kernel           = 3x3x64\n",
        "# No:of Kernels    = 96\n",
        "# Output Dimension = 32x32x96 (Here,96 is the number of channels)\n",
        "# Receptive Field  = 5x5 \n",
        "model.add(Convolution2D(96, 3, 3, border_mode='same'))\n",
        "model.add(BatchNormalization())\n",
        "model.add(Activation('relu'))\n",
        "model.add(Dropout(0.1))\n",
        "######################BLOCK ENDS################################################\n",
        "\n",
        "\n",
        "######################BLOCK STARTS##############################################\n",
        "# Input Dimension  = 32x32x96\n",
        "# Kernel           = 3x3x96\n",
        "# No:of Kernels    = 112\n",
        "# Output Dimension = 32x32x112 (Here,112 is the number of channels)\n",
        "# Receptive Field  = 7x7 \n",
        "model.add(Convolution2D(112, 3, 3, border_mode='same'))\n",
        "model.add(BatchNormalization())\n",
        "model.add(Activation('relu'))\n",
        "model.add(Dropout(0.1))\n",
        "######################BLOCK ENDS################################################\n",
        "\n",
        "\n",
        "######################TRANSITION BLOCK STARTS###################################\n",
        "# # Input Dimension  = 32x32x96\n",
        "# # Kernel           = 1x1x96\n",
        "# # No:of Kernels    = 64\n",
        "# # Output Dimension = 32x32x64 (Here,64 is the number of channels)\n",
        "# # Receptive Field  = 7x7\n",
        "# # NOTE: 1x1 Kernels are used here for dimension(channel) reduction.\n",
        "# # No effect on output resolution or receptive field\n",
        "model.add(Convolution2D(64, 1))\n",
        "\n",
        "# Input Dimension  = 32x32x64\n",
        "# Maxpooling Dimension = 2x2 (Default is 2x2)\n",
        "# Output Dimension = 16x16x64 (Here,64 is the number of channels)\n",
        "# Receptive Field  = 14x14 \n",
        "# NOTE: Maxpooling halves the resolution and doubles the receptive field\n",
        "model.add(MaxPooling2D(pool_size=(2, 2)))\n",
        "######################TRANSITION BLOCK ENDS#####################################\n",
        "\n",
        "\n",
        "######################BLOCK STARTS##############################################\n",
        "# Input Dimension  = 16x16x64\n",
        "# Kernel           = 3x3x64\n",
        "# No:of Kernels    = 96\n",
        "# Output Dimension = 16x16x96 (Here,96 is the number of channels)\n",
        "# Receptive Field  = 16x16 \n",
        "model.add(Convolution2D(96, 3, 3, border_mode='same'))\n",
        "model.add(BatchNormalization())\n",
        "model.add(Activation('relu'))\n",
        "model.add(Dropout(0.1))\n",
        "######################BLOCK ENDS################################################\n",
        "\n",
        "\n",
        "######################BLOCK STARTS##############################################\n",
        "# Input Dimension  = 16x16x96\n",
        "# Kernel           = 3x3x96\n",
        "# No:of Kernels    = 112\n",
        "# Output Dimension = 16x16x112 (Here,112 is the number of channels)\n",
        "# Receptive Field  = 18x18 \n",
        "model.add(Convolution2D(112, 3, 3, border_mode='same'))\n",
        "model.add(BatchNormalization())\n",
        "model.add(Activation('relu'))\n",
        "model.add(Dropout(0.1))\n",
        "######################BLOCK ENDS################################################\n",
        "\n",
        "\n",
        "######################TRANSITION BLOCK STARTS###################################\n",
        "# # Input Dimension  = 16x16x112\n",
        "# # Kernel           = 1x1x112\n",
        "# # No:of Kernels    = 64\n",
        "# # Output Dimension = 16x16x64 (Here,64 is the number of channels)\n",
        "# # Receptive Field  = 18x18\n",
        "# # NOTE: 1x1 Kernels are used here for dimension(channel) reduction.\n",
        "# # No effect on output resolution or receptive field\n",
        "model.add(Convolution2D(64, 1))\n",
        "\n",
        "# Input Dimension  = 16x16x64\n",
        "# Maxpooling Dimension = 2x2 (Default is 2x2)\n",
        "# Output Dimension = 8x8x64 (Here,64 is the number of channels)\n",
        "# Receptive Field  = 36x36 \n",
        "# NOTE: Maxpooling halves the resolution and doubles the receptive field\n",
        "model.add(MaxPooling2D(pool_size=(2, 2)))\n",
        "######################TRANSITION BLOCK ENDS#####################################\n",
        "\n",
        "\n",
        "######################BLOCK STARTS##############################################\n",
        "# Input Dimension  = 8x8x64\n",
        "# Kernel           = 3x3x64\n",
        "# No:of Kernels    = 96\n",
        "# Output Dimension = 8x8x96 (Here,96 is the number of channels)\n",
        "# Receptive Field  = 38x38 \n",
        "model.add(Convolution2D(96, 3, 3, border_mode='same'))\n",
        "model.add(BatchNormalization())\n",
        "model.add(Activation('relu'))\n",
        "model.add(Dropout(0.1))\n",
        "######################BLOCK ENDS################################################\n",
        "\n",
        "\n",
        "######################BLOCK STARTS##############################################\n",
        "# Input Dimension  = 8x8x64\n",
        "# Kernel           = 3x3x64\n",
        "# No:of Kernels    = 112\n",
        "# Output Dimension = 8x8x112 (Here,112 is the number of channels)\n",
        "# Receptive Field  = 40x40 \n",
        "model.add(Convolution2D(112, 3, 3, border_mode='same'))\n",
        "model.add(BatchNormalization())\n",
        "model.add(Activation('relu'))\n",
        "model.add(Dropout(0.1))\n",
        "######################BLOCK ENDS################################################\n",
        "\n",
        "\n",
        "######################BLOCK STARTS##############################################\n",
        "# Input Dimension  = 8x8x112\n",
        "# Kernel           = 3x3x112\n",
        "# No:of Kernels    = 124\n",
        "# Output Dimension = 8x8x124 (Here,124 is the number of channels)\n",
        "# Receptive Field  = 42x42 \n",
        "model.add(Convolution2D(124, 3, 3, border_mode='same'))\n",
        "model.add(BatchNormalization())\n",
        "model.add(Activation('relu'))\n",
        "model.add(Dropout(0.1))\n",
        "######################BLOCK ENDS################################################\n",
        "\n",
        "\n",
        "######################PREDICTION BLOCK STARTS###################################\n",
        "# # Input Dimension  = 8x8x124\n",
        "# # Kernel           = 1x1x124\n",
        "# # No:of Kernels    = 10\n",
        "# # Output Dimension = 8x8x10 (Here,10 is the number of channels)\n",
        "# # Receptive Field  = 42x42\n",
        "# # NOTE: 1x1 Kernels are used here for dimension(channel) reduction.\n",
        "# # No effect on output resolution or receptive field\n",
        "model.add(Convolution2D(10, 1))\n",
        "# Input Dimension  = 8x8x10\n",
        "# Kernel           = 8x8x10\n",
        "# No:of Kernels    = 10\n",
        "# Output Dimension = 1x1x10 (Here,10 is the number of channels)\n",
        "model.add(Convolution2D(10, 8))\n",
        "\n",
        "# Input Dimension  = 1x1x10\n",
        "# Output Dimension = 10\n",
        "model.add(Flatten())\n",
        "# We use a “softmax” activation function in the output layer. \n",
        "# This is to ensure the output values are in the range of 0 and 1 and used as predicted probabilities.\n",
        "model.add(Activation('softmax'))\n",
        "######################PREDICTION BLOCK ENDS#####################################\n",
        "\n",
        "# Compile the model\n",
        "model.compile(optimizer='adam', loss='categorical_crossentropy', metrics=['accuracy'])\n"
      ],
      "execution_count": 133,
      "outputs": [
        {
          "output_type": "stream",
          "text": [
            "/usr/local/lib/python3.6/dist-packages/ipykernel_launcher.py:9: UserWarning: Update your `Conv2D` call to the Keras 2 API: `Conv2D(64, (3, 3), input_shape=(32, 32, 3..., padding=\"same\")`\n",
            "  if __name__ == '__main__':\n",
            "/usr/local/lib/python3.6/dist-packages/ipykernel_launcher.py:22: UserWarning: Update your `Conv2D` call to the Keras 2 API: `Conv2D(96, (3, 3), padding=\"same\")`\n",
            "/usr/local/lib/python3.6/dist-packages/ipykernel_launcher.py:35: UserWarning: Update your `Conv2D` call to the Keras 2 API: `Conv2D(112, (3, 3), padding=\"same\")`\n",
            "/usr/local/lib/python3.6/dist-packages/ipykernel_launcher.py:67: UserWarning: Update your `Conv2D` call to the Keras 2 API: `Conv2D(96, (3, 3), padding=\"same\")`\n",
            "/usr/local/lib/python3.6/dist-packages/ipykernel_launcher.py:80: UserWarning: Update your `Conv2D` call to the Keras 2 API: `Conv2D(112, (3, 3), padding=\"same\")`\n",
            "/usr/local/lib/python3.6/dist-packages/ipykernel_launcher.py:112: UserWarning: Update your `Conv2D` call to the Keras 2 API: `Conv2D(96, (3, 3), padding=\"same\")`\n",
            "/usr/local/lib/python3.6/dist-packages/ipykernel_launcher.py:125: UserWarning: Update your `Conv2D` call to the Keras 2 API: `Conv2D(112, (3, 3), padding=\"same\")`\n",
            "/usr/local/lib/python3.6/dist-packages/ipykernel_launcher.py:138: UserWarning: Update your `Conv2D` call to the Keras 2 API: `Conv2D(124, (3, 3), padding=\"same\")`\n"
          ],
          "name": "stderr"
        },
        {
          "output_type": "error",
          "ename": "KeyboardInterrupt",
          "evalue": "ignored",
          "traceback": [
            "\u001b[0;31m---------------------------------------------------------------------------\u001b[0m",
            "\u001b[0;31mKeyboardInterrupt\u001b[0m                         Traceback (most recent call last)",
            "\u001b[0;32m<ipython-input-133-440aba438245>\u001b[0m in \u001b[0;36m<module>\u001b[0;34m()\u001b[0m\n\u001b[1;32m    160\u001b[0m \u001b[0;31m# Input Dimension  = 1x1x10\u001b[0m\u001b[0;34m\u001b[0m\u001b[0;34m\u001b[0m\u001b[0;34m\u001b[0m\u001b[0m\n\u001b[1;32m    161\u001b[0m \u001b[0;31m# Output Dimension = 10\u001b[0m\u001b[0;34m\u001b[0m\u001b[0;34m\u001b[0m\u001b[0;34m\u001b[0m\u001b[0m\n\u001b[0;32m--> 162\u001b[0;31m \u001b[0mmodel\u001b[0m\u001b[0;34m.\u001b[0m\u001b[0madd\u001b[0m\u001b[0;34m(\u001b[0m\u001b[0mFlatten\u001b[0m\u001b[0;34m(\u001b[0m\u001b[0;34m)\u001b[0m\u001b[0;34m)\u001b[0m\u001b[0;34m\u001b[0m\u001b[0;34m\u001b[0m\u001b[0m\n\u001b[0m\u001b[1;32m    163\u001b[0m \u001b[0;31m# We use a “softmax” activation function in the output layer.\u001b[0m\u001b[0;34m\u001b[0m\u001b[0;34m\u001b[0m\u001b[0;34m\u001b[0m\u001b[0m\n\u001b[1;32m    164\u001b[0m \u001b[0;31m# This is to ensure the output values are in the range of 0 and 1 and used as predicted probabilities.\u001b[0m\u001b[0;34m\u001b[0m\u001b[0;34m\u001b[0m\u001b[0;34m\u001b[0m\u001b[0m\n",
            "\u001b[0;32m/usr/local/lib/python3.6/dist-packages/keras/engine/sequential.py\u001b[0m in \u001b[0;36madd\u001b[0;34m(self, layer)\u001b[0m\n\u001b[1;32m    179\u001b[0m                 \u001b[0mself\u001b[0m\u001b[0;34m.\u001b[0m\u001b[0minputs\u001b[0m \u001b[0;34m=\u001b[0m \u001b[0mnetwork\u001b[0m\u001b[0;34m.\u001b[0m\u001b[0mget_source_inputs\u001b[0m\u001b[0;34m(\u001b[0m\u001b[0mself\u001b[0m\u001b[0;34m.\u001b[0m\u001b[0moutputs\u001b[0m\u001b[0;34m[\u001b[0m\u001b[0;36m0\u001b[0m\u001b[0;34m]\u001b[0m\u001b[0;34m)\u001b[0m\u001b[0;34m\u001b[0m\u001b[0;34m\u001b[0m\u001b[0m\n\u001b[1;32m    180\u001b[0m         \u001b[0;32melif\u001b[0m \u001b[0mself\u001b[0m\u001b[0;34m.\u001b[0m\u001b[0moutputs\u001b[0m\u001b[0;34m:\u001b[0m\u001b[0;34m\u001b[0m\u001b[0;34m\u001b[0m\u001b[0m\n\u001b[0;32m--> 181\u001b[0;31m             \u001b[0moutput_tensor\u001b[0m \u001b[0;34m=\u001b[0m \u001b[0mlayer\u001b[0m\u001b[0;34m(\u001b[0m\u001b[0mself\u001b[0m\u001b[0;34m.\u001b[0m\u001b[0moutputs\u001b[0m\u001b[0;34m[\u001b[0m\u001b[0;36m0\u001b[0m\u001b[0;34m]\u001b[0m\u001b[0;34m)\u001b[0m\u001b[0;34m\u001b[0m\u001b[0;34m\u001b[0m\u001b[0m\n\u001b[0m\u001b[1;32m    182\u001b[0m             \u001b[0;32mif\u001b[0m \u001b[0misinstance\u001b[0m\u001b[0;34m(\u001b[0m\u001b[0moutput_tensor\u001b[0m\u001b[0;34m,\u001b[0m \u001b[0mlist\u001b[0m\u001b[0;34m)\u001b[0m\u001b[0;34m:\u001b[0m\u001b[0;34m\u001b[0m\u001b[0;34m\u001b[0m\u001b[0m\n\u001b[1;32m    183\u001b[0m                 raise TypeError('All layers in a Sequential model '\n",
            "\u001b[0;32m/usr/local/lib/python3.6/dist-packages/keras/engine/base_layer.py\u001b[0m in \u001b[0;36m__call__\u001b[0;34m(self, inputs, **kwargs)\u001b[0m\n\u001b[1;32m    455\u001b[0m             \u001b[0;31m# Actually call the layer,\u001b[0m\u001b[0;34m\u001b[0m\u001b[0;34m\u001b[0m\u001b[0;34m\u001b[0m\u001b[0m\n\u001b[1;32m    456\u001b[0m             \u001b[0;31m# collecting output(s), mask(s), and shape(s).\u001b[0m\u001b[0;34m\u001b[0m\u001b[0;34m\u001b[0m\u001b[0;34m\u001b[0m\u001b[0m\n\u001b[0;32m--> 457\u001b[0;31m             \u001b[0moutput\u001b[0m \u001b[0;34m=\u001b[0m \u001b[0mself\u001b[0m\u001b[0;34m.\u001b[0m\u001b[0mcall\u001b[0m\u001b[0;34m(\u001b[0m\u001b[0minputs\u001b[0m\u001b[0;34m,\u001b[0m \u001b[0;34m**\u001b[0m\u001b[0mkwargs\u001b[0m\u001b[0;34m)\u001b[0m\u001b[0;34m\u001b[0m\u001b[0;34m\u001b[0m\u001b[0m\n\u001b[0m\u001b[1;32m    458\u001b[0m             \u001b[0moutput_mask\u001b[0m \u001b[0;34m=\u001b[0m \u001b[0mself\u001b[0m\u001b[0;34m.\u001b[0m\u001b[0mcompute_mask\u001b[0m\u001b[0;34m(\u001b[0m\u001b[0minputs\u001b[0m\u001b[0;34m,\u001b[0m \u001b[0mprevious_mask\u001b[0m\u001b[0;34m)\u001b[0m\u001b[0;34m\u001b[0m\u001b[0;34m\u001b[0m\u001b[0m\n\u001b[1;32m    459\u001b[0m \u001b[0;34m\u001b[0m\u001b[0m\n",
            "\u001b[0;32m/usr/local/lib/python3.6/dist-packages/keras/layers/core.py\u001b[0m in \u001b[0;36mcall\u001b[0;34m(self, inputs)\u001b[0m\n\u001b[1;32m    513\u001b[0m             \u001b[0minputs\u001b[0m \u001b[0;34m=\u001b[0m \u001b[0mK\u001b[0m\u001b[0;34m.\u001b[0m\u001b[0mpermute_dimensions\u001b[0m\u001b[0;34m(\u001b[0m\u001b[0minputs\u001b[0m\u001b[0;34m,\u001b[0m \u001b[0mpermutation\u001b[0m\u001b[0;34m)\u001b[0m\u001b[0;34m\u001b[0m\u001b[0;34m\u001b[0m\u001b[0m\n\u001b[1;32m    514\u001b[0m \u001b[0;34m\u001b[0m\u001b[0m\n\u001b[0;32m--> 515\u001b[0;31m         \u001b[0;32mreturn\u001b[0m \u001b[0mK\u001b[0m\u001b[0;34m.\u001b[0m\u001b[0mbatch_flatten\u001b[0m\u001b[0;34m(\u001b[0m\u001b[0minputs\u001b[0m\u001b[0;34m)\u001b[0m\u001b[0;34m\u001b[0m\u001b[0;34m\u001b[0m\u001b[0m\n\u001b[0m\u001b[1;32m    516\u001b[0m \u001b[0;34m\u001b[0m\u001b[0m\n\u001b[1;32m    517\u001b[0m     \u001b[0;32mdef\u001b[0m \u001b[0mget_config\u001b[0m\u001b[0;34m(\u001b[0m\u001b[0mself\u001b[0m\u001b[0;34m)\u001b[0m\u001b[0;34m:\u001b[0m\u001b[0;34m\u001b[0m\u001b[0;34m\u001b[0m\u001b[0m\n",
            "\u001b[0;32m/usr/local/lib/python3.6/dist-packages/keras/backend/tensorflow_backend.py\u001b[0m in \u001b[0;36mbatch_flatten\u001b[0;34m(x)\u001b[0m\n\u001b[1;32m   2215\u001b[0m         \u001b[0mA\u001b[0m \u001b[0mtensor\u001b[0m\u001b[0;34m.\u001b[0m\u001b[0;34m\u001b[0m\u001b[0;34m\u001b[0m\u001b[0m\n\u001b[1;32m   2216\u001b[0m     \"\"\"\n\u001b[0;32m-> 2217\u001b[0;31m     \u001b[0mx\u001b[0m \u001b[0;34m=\u001b[0m \u001b[0mtf\u001b[0m\u001b[0;34m.\u001b[0m\u001b[0mreshape\u001b[0m\u001b[0;34m(\u001b[0m\u001b[0mx\u001b[0m\u001b[0;34m,\u001b[0m \u001b[0mtf\u001b[0m\u001b[0;34m.\u001b[0m\u001b[0mstack\u001b[0m\u001b[0;34m(\u001b[0m\u001b[0;34m[\u001b[0m\u001b[0;34m-\u001b[0m\u001b[0;36m1\u001b[0m\u001b[0;34m,\u001b[0m \u001b[0mprod\u001b[0m\u001b[0;34m(\u001b[0m\u001b[0mshape\u001b[0m\u001b[0;34m(\u001b[0m\u001b[0mx\u001b[0m\u001b[0;34m)\u001b[0m\u001b[0;34m[\u001b[0m\u001b[0;36m1\u001b[0m\u001b[0;34m:\u001b[0m\u001b[0;34m]\u001b[0m\u001b[0;34m)\u001b[0m\u001b[0;34m]\u001b[0m\u001b[0;34m)\u001b[0m\u001b[0;34m)\u001b[0m\u001b[0;34m\u001b[0m\u001b[0;34m\u001b[0m\u001b[0m\n\u001b[0m\u001b[1;32m   2218\u001b[0m     \u001b[0;32mreturn\u001b[0m \u001b[0mx\u001b[0m\u001b[0;34m\u001b[0m\u001b[0;34m\u001b[0m\u001b[0m\n\u001b[1;32m   2219\u001b[0m \u001b[0;34m\u001b[0m\u001b[0m\n",
            "\u001b[0;32m/usr/local/lib/python3.6/dist-packages/tensorflow/python/ops/array_ops.py\u001b[0m in \u001b[0;36m_slice_helper\u001b[0;34m(tensor, slice_spec, var)\u001b[0m\n\u001b[1;32m    653\u001b[0m                       [tensor] + begin + end + strides) as name:\n\u001b[1;32m    654\u001b[0m     \u001b[0;32mif\u001b[0m \u001b[0mbegin\u001b[0m\u001b[0;34m:\u001b[0m\u001b[0;34m\u001b[0m\u001b[0;34m\u001b[0m\u001b[0m\n\u001b[0;32m--> 655\u001b[0;31m       packed_begin, packed_end, packed_strides = (stack(begin), stack(end),\n\u001b[0m\u001b[1;32m    656\u001b[0m                                                   stack(strides))\n\u001b[1;32m    657\u001b[0m       if (packed_begin.dtype == dtypes.int64 or\n",
            "\u001b[0;32m/usr/local/lib/python3.6/dist-packages/tensorflow/python/util/dispatch.py\u001b[0m in \u001b[0;36mwrapper\u001b[0;34m(*args, **kwargs)\u001b[0m\n\u001b[1;32m    178\u001b[0m     \u001b[0;34m\"\"\"Call target, and fall back on dispatchers if there is a TypeError.\"\"\"\u001b[0m\u001b[0;34m\u001b[0m\u001b[0;34m\u001b[0m\u001b[0m\n\u001b[1;32m    179\u001b[0m     \u001b[0;32mtry\u001b[0m\u001b[0;34m:\u001b[0m\u001b[0;34m\u001b[0m\u001b[0;34m\u001b[0m\u001b[0m\n\u001b[0;32m--> 180\u001b[0;31m       \u001b[0;32mreturn\u001b[0m \u001b[0mtarget\u001b[0m\u001b[0;34m(\u001b[0m\u001b[0;34m*\u001b[0m\u001b[0margs\u001b[0m\u001b[0;34m,\u001b[0m \u001b[0;34m**\u001b[0m\u001b[0mkwargs\u001b[0m\u001b[0;34m)\u001b[0m\u001b[0;34m\u001b[0m\u001b[0;34m\u001b[0m\u001b[0m\n\u001b[0m\u001b[1;32m    181\u001b[0m     \u001b[0;32mexcept\u001b[0m \u001b[0;34m(\u001b[0m\u001b[0mTypeError\u001b[0m\u001b[0;34m,\u001b[0m \u001b[0mValueError\u001b[0m\u001b[0;34m)\u001b[0m\u001b[0;34m:\u001b[0m\u001b[0;34m\u001b[0m\u001b[0;34m\u001b[0m\u001b[0m\n\u001b[1;32m    182\u001b[0m       \u001b[0;31m# Note: convert_to_eager_tensor currently raises a ValueError, not a\u001b[0m\u001b[0;34m\u001b[0m\u001b[0;34m\u001b[0m\u001b[0;34m\u001b[0m\u001b[0m\n",
            "\u001b[0;32m/usr/local/lib/python3.6/dist-packages/tensorflow/python/ops/array_ops.py\u001b[0m in \u001b[0;36mstack\u001b[0;34m(values, axis, name)\u001b[0m\n\u001b[1;32m   1033\u001b[0m     \u001b[0;32mtry\u001b[0m\u001b[0;34m:\u001b[0m\u001b[0;34m\u001b[0m\u001b[0;34m\u001b[0m\u001b[0m\n\u001b[1;32m   1034\u001b[0m       \u001b[0;31m# If the input is a constant list, it can be converted to a constant op\u001b[0m\u001b[0;34m\u001b[0m\u001b[0;34m\u001b[0m\u001b[0;34m\u001b[0m\u001b[0m\n\u001b[0;32m-> 1035\u001b[0;31m       \u001b[0;32mreturn\u001b[0m \u001b[0mops\u001b[0m\u001b[0;34m.\u001b[0m\u001b[0mconvert_to_tensor\u001b[0m\u001b[0;34m(\u001b[0m\u001b[0mvalues\u001b[0m\u001b[0;34m,\u001b[0m \u001b[0mname\u001b[0m\u001b[0;34m=\u001b[0m\u001b[0mname\u001b[0m\u001b[0;34m)\u001b[0m\u001b[0;34m\u001b[0m\u001b[0;34m\u001b[0m\u001b[0m\n\u001b[0m\u001b[1;32m   1036\u001b[0m     \u001b[0;32mexcept\u001b[0m \u001b[0;34m(\u001b[0m\u001b[0mTypeError\u001b[0m\u001b[0;34m,\u001b[0m \u001b[0mValueError\u001b[0m\u001b[0;34m)\u001b[0m\u001b[0;34m:\u001b[0m\u001b[0;34m\u001b[0m\u001b[0;34m\u001b[0m\u001b[0m\n\u001b[1;32m   1037\u001b[0m       \u001b[0;32mpass\u001b[0m  \u001b[0;31m# Input list contains non-constant tensors\u001b[0m\u001b[0;34m\u001b[0m\u001b[0;34m\u001b[0m\u001b[0m\n",
            "\u001b[0;32m/usr/local/lib/python3.6/dist-packages/tensorflow/python/framework/ops.py\u001b[0m in \u001b[0;36mconvert_to_tensor\u001b[0;34m(value, dtype, name, preferred_dtype, dtype_hint)\u001b[0m\n\u001b[1;32m   1085\u001b[0m   preferred_dtype = deprecation.deprecated_argument_lookup(\n\u001b[1;32m   1086\u001b[0m       \"dtype_hint\", dtype_hint, \"preferred_dtype\", preferred_dtype)\n\u001b[0;32m-> 1087\u001b[0;31m   \u001b[0;32mreturn\u001b[0m \u001b[0mconvert_to_tensor_v2\u001b[0m\u001b[0;34m(\u001b[0m\u001b[0mvalue\u001b[0m\u001b[0;34m,\u001b[0m \u001b[0mdtype\u001b[0m\u001b[0;34m,\u001b[0m \u001b[0mpreferred_dtype\u001b[0m\u001b[0;34m,\u001b[0m \u001b[0mname\u001b[0m\u001b[0;34m)\u001b[0m\u001b[0;34m\u001b[0m\u001b[0;34m\u001b[0m\u001b[0m\n\u001b[0m\u001b[1;32m   1088\u001b[0m \u001b[0;34m\u001b[0m\u001b[0m\n\u001b[1;32m   1089\u001b[0m \u001b[0;34m\u001b[0m\u001b[0m\n",
            "\u001b[0;32m/usr/local/lib/python3.6/dist-packages/tensorflow/python/framework/ops.py\u001b[0m in \u001b[0;36mconvert_to_tensor_v2\u001b[0;34m(value, dtype, dtype_hint, name)\u001b[0m\n\u001b[1;32m   1143\u001b[0m       \u001b[0mname\u001b[0m\u001b[0;34m=\u001b[0m\u001b[0mname\u001b[0m\u001b[0;34m,\u001b[0m\u001b[0;34m\u001b[0m\u001b[0;34m\u001b[0m\u001b[0m\n\u001b[1;32m   1144\u001b[0m       \u001b[0mpreferred_dtype\u001b[0m\u001b[0;34m=\u001b[0m\u001b[0mdtype_hint\u001b[0m\u001b[0;34m,\u001b[0m\u001b[0;34m\u001b[0m\u001b[0;34m\u001b[0m\u001b[0m\n\u001b[0;32m-> 1145\u001b[0;31m       as_ref=False)\n\u001b[0m\u001b[1;32m   1146\u001b[0m \u001b[0;34m\u001b[0m\u001b[0m\n\u001b[1;32m   1147\u001b[0m \u001b[0;34m\u001b[0m\u001b[0m\n",
            "\u001b[0;32m/usr/local/lib/python3.6/dist-packages/tensorflow/python/framework/ops.py\u001b[0m in \u001b[0;36minternal_convert_to_tensor\u001b[0;34m(value, dtype, name, as_ref, preferred_dtype, ctx, accept_symbolic_tensors, accept_composite_tensors)\u001b[0m\n\u001b[1;32m   1222\u001b[0m \u001b[0;34m\u001b[0m\u001b[0m\n\u001b[1;32m   1223\u001b[0m     \u001b[0;32mif\u001b[0m \u001b[0mret\u001b[0m \u001b[0;32mis\u001b[0m \u001b[0;32mNone\u001b[0m\u001b[0;34m:\u001b[0m\u001b[0;34m\u001b[0m\u001b[0;34m\u001b[0m\u001b[0m\n\u001b[0;32m-> 1224\u001b[0;31m       \u001b[0mret\u001b[0m \u001b[0;34m=\u001b[0m \u001b[0mconversion_func\u001b[0m\u001b[0;34m(\u001b[0m\u001b[0mvalue\u001b[0m\u001b[0;34m,\u001b[0m \u001b[0mdtype\u001b[0m\u001b[0;34m=\u001b[0m\u001b[0mdtype\u001b[0m\u001b[0;34m,\u001b[0m \u001b[0mname\u001b[0m\u001b[0;34m=\u001b[0m\u001b[0mname\u001b[0m\u001b[0;34m,\u001b[0m \u001b[0mas_ref\u001b[0m\u001b[0;34m=\u001b[0m\u001b[0mas_ref\u001b[0m\u001b[0;34m)\u001b[0m\u001b[0;34m\u001b[0m\u001b[0;34m\u001b[0m\u001b[0m\n\u001b[0m\u001b[1;32m   1225\u001b[0m \u001b[0;34m\u001b[0m\u001b[0m\n\u001b[1;32m   1226\u001b[0m     \u001b[0;32mif\u001b[0m \u001b[0mret\u001b[0m \u001b[0;32mis\u001b[0m \u001b[0mNotImplemented\u001b[0m\u001b[0;34m:\u001b[0m\u001b[0;34m\u001b[0m\u001b[0;34m\u001b[0m\u001b[0m\n",
            "\u001b[0;32m/usr/local/lib/python3.6/dist-packages/tensorflow/python/framework/constant_op.py\u001b[0m in \u001b[0;36m_constant_tensor_conversion_function\u001b[0;34m(v, dtype, name, as_ref)\u001b[0m\n\u001b[1;32m    303\u001b[0m                                          as_ref=False):\n\u001b[1;32m    304\u001b[0m   \u001b[0m_\u001b[0m \u001b[0;34m=\u001b[0m \u001b[0mas_ref\u001b[0m\u001b[0;34m\u001b[0m\u001b[0;34m\u001b[0m\u001b[0m\n\u001b[0;32m--> 305\u001b[0;31m   \u001b[0;32mreturn\u001b[0m \u001b[0mconstant\u001b[0m\u001b[0;34m(\u001b[0m\u001b[0mv\u001b[0m\u001b[0;34m,\u001b[0m \u001b[0mdtype\u001b[0m\u001b[0;34m=\u001b[0m\u001b[0mdtype\u001b[0m\u001b[0;34m,\u001b[0m \u001b[0mname\u001b[0m\u001b[0;34m=\u001b[0m\u001b[0mname\u001b[0m\u001b[0;34m)\u001b[0m\u001b[0;34m\u001b[0m\u001b[0;34m\u001b[0m\u001b[0m\n\u001b[0m\u001b[1;32m    306\u001b[0m \u001b[0;34m\u001b[0m\u001b[0m\n\u001b[1;32m    307\u001b[0m \u001b[0;34m\u001b[0m\u001b[0m\n",
            "\u001b[0;32m/usr/local/lib/python3.6/dist-packages/tensorflow/python/framework/constant_op.py\u001b[0m in \u001b[0;36mconstant\u001b[0;34m(value, dtype, shape, name)\u001b[0m\n\u001b[1;32m    244\u001b[0m   \"\"\"\n\u001b[1;32m    245\u001b[0m   return _constant_impl(value, dtype, shape, name, verify_shape=False,\n\u001b[0;32m--> 246\u001b[0;31m                         allow_broadcast=True)\n\u001b[0m\u001b[1;32m    247\u001b[0m \u001b[0;34m\u001b[0m\u001b[0m\n\u001b[1;32m    248\u001b[0m \u001b[0;34m\u001b[0m\u001b[0m\n",
            "\u001b[0;32m/usr/local/lib/python3.6/dist-packages/tensorflow/python/framework/constant_op.py\u001b[0m in \u001b[0;36m_constant_impl\u001b[0;34m(value, dtype, shape, name, verify_shape, allow_broadcast)\u001b[0m\n\u001b[1;32m    288\u001b[0m       attrs={\"value\": tensor_value,\n\u001b[1;32m    289\u001b[0m              \"dtype\": dtype_value},\n\u001b[0;32m--> 290\u001b[0;31m       name=name).outputs[0]\n\u001b[0m\u001b[1;32m    291\u001b[0m   \u001b[0;32mreturn\u001b[0m \u001b[0mconst_tensor\u001b[0m\u001b[0;34m\u001b[0m\u001b[0;34m\u001b[0m\u001b[0m\n\u001b[1;32m    292\u001b[0m \u001b[0;34m\u001b[0m\u001b[0m\n",
            "\u001b[0;32m/usr/local/lib/python3.6/dist-packages/tensorflow/python/util/deprecation.py\u001b[0m in \u001b[0;36mnew_func\u001b[0;34m(*args, **kwargs)\u001b[0m\n\u001b[1;32m    505\u001b[0m                 \u001b[0;34m'in a future version'\u001b[0m \u001b[0;32mif\u001b[0m \u001b[0mdate\u001b[0m \u001b[0;32mis\u001b[0m \u001b[0;32mNone\u001b[0m \u001b[0;32melse\u001b[0m \u001b[0;34m(\u001b[0m\u001b[0;34m'after %s'\u001b[0m \u001b[0;34m%\u001b[0m \u001b[0mdate\u001b[0m\u001b[0;34m)\u001b[0m\u001b[0;34m,\u001b[0m\u001b[0;34m\u001b[0m\u001b[0;34m\u001b[0m\u001b[0m\n\u001b[1;32m    506\u001b[0m                 instructions)\n\u001b[0;32m--> 507\u001b[0;31m       \u001b[0;32mreturn\u001b[0m \u001b[0mfunc\u001b[0m\u001b[0;34m(\u001b[0m\u001b[0;34m*\u001b[0m\u001b[0margs\u001b[0m\u001b[0;34m,\u001b[0m \u001b[0;34m**\u001b[0m\u001b[0mkwargs\u001b[0m\u001b[0;34m)\u001b[0m\u001b[0;34m\u001b[0m\u001b[0;34m\u001b[0m\u001b[0m\n\u001b[0m\u001b[1;32m    508\u001b[0m \u001b[0;34m\u001b[0m\u001b[0m\n\u001b[1;32m    509\u001b[0m     doc = _add_deprecated_arg_notice_to_docstring(\n",
            "\u001b[0;32m/usr/local/lib/python3.6/dist-packages/tensorflow/python/framework/ops.py\u001b[0m in \u001b[0;36mcreate_op\u001b[0;34m(***failed resolving arguments***)\u001b[0m\n\u001b[1;32m   3614\u001b[0m           \u001b[0minput_types\u001b[0m\u001b[0;34m=\u001b[0m\u001b[0minput_types\u001b[0m\u001b[0;34m,\u001b[0m\u001b[0;34m\u001b[0m\u001b[0;34m\u001b[0m\u001b[0m\n\u001b[1;32m   3615\u001b[0m           \u001b[0moriginal_op\u001b[0m\u001b[0;34m=\u001b[0m\u001b[0mself\u001b[0m\u001b[0;34m.\u001b[0m\u001b[0m_default_original_op\u001b[0m\u001b[0;34m,\u001b[0m\u001b[0;34m\u001b[0m\u001b[0;34m\u001b[0m\u001b[0m\n\u001b[0;32m-> 3616\u001b[0;31m           op_def=op_def)\n\u001b[0m\u001b[1;32m   3617\u001b[0m       \u001b[0mself\u001b[0m\u001b[0;34m.\u001b[0m\u001b[0m_create_op_helper\u001b[0m\u001b[0;34m(\u001b[0m\u001b[0mret\u001b[0m\u001b[0;34m,\u001b[0m \u001b[0mcompute_device\u001b[0m\u001b[0;34m=\u001b[0m\u001b[0mcompute_device\u001b[0m\u001b[0;34m)\u001b[0m\u001b[0;34m\u001b[0m\u001b[0;34m\u001b[0m\u001b[0m\n\u001b[1;32m   3618\u001b[0m     \u001b[0;32mreturn\u001b[0m \u001b[0mret\u001b[0m\u001b[0;34m\u001b[0m\u001b[0;34m\u001b[0m\u001b[0m\n",
            "\u001b[0;32m/usr/local/lib/python3.6/dist-packages/tensorflow/python/framework/ops.py\u001b[0m in \u001b[0;36m__init__\u001b[0;34m(self, node_def, g, inputs, output_types, control_inputs, input_types, original_op, op_def)\u001b[0m\n\u001b[1;32m   2041\u001b[0m \u001b[0;34m\u001b[0m\u001b[0m\n\u001b[1;32m   2042\u001b[0m     \u001b[0;32mif\u001b[0m \u001b[0;32mnot\u001b[0m \u001b[0mc_op\u001b[0m\u001b[0;34m:\u001b[0m\u001b[0;34m\u001b[0m\u001b[0;34m\u001b[0m\u001b[0m\n\u001b[0;32m-> 2043\u001b[0;31m       \u001b[0mself\u001b[0m\u001b[0;34m.\u001b[0m\u001b[0m_control_flow_post_processing\u001b[0m\u001b[0;34m(\u001b[0m\u001b[0;34m)\u001b[0m\u001b[0;34m\u001b[0m\u001b[0;34m\u001b[0m\u001b[0m\n\u001b[0m\u001b[1;32m   2044\u001b[0m \u001b[0;34m\u001b[0m\u001b[0m\n\u001b[1;32m   2045\u001b[0m   \u001b[0;32mdef\u001b[0m \u001b[0m_control_flow_post_processing\u001b[0m\u001b[0;34m(\u001b[0m\u001b[0mself\u001b[0m\u001b[0;34m)\u001b[0m\u001b[0;34m:\u001b[0m\u001b[0;34m\u001b[0m\u001b[0;34m\u001b[0m\u001b[0m\n",
            "\u001b[0;32m/usr/local/lib/python3.6/dist-packages/tensorflow/python/framework/ops.py\u001b[0m in \u001b[0;36m_control_flow_post_processing\u001b[0;34m(self)\u001b[0m\n\u001b[1;32m   2049\u001b[0m     \u001b[0mavailable\u001b[0m \u001b[0mbefore\u001b[0m \u001b[0mcalling\u001b[0m \u001b[0mthis\u001b[0m \u001b[0mmethod\u001b[0m\u001b[0;34m.\u001b[0m\u001b[0;34m\u001b[0m\u001b[0;34m\u001b[0m\u001b[0m\n\u001b[1;32m   2050\u001b[0m     \"\"\"\n\u001b[0;32m-> 2051\u001b[0;31m     \u001b[0;32mfor\u001b[0m \u001b[0minput_tensor\u001b[0m \u001b[0;32min\u001b[0m \u001b[0mself\u001b[0m\u001b[0;34m.\u001b[0m\u001b[0minputs\u001b[0m\u001b[0;34m:\u001b[0m\u001b[0;34m\u001b[0m\u001b[0;34m\u001b[0m\u001b[0m\n\u001b[0m\u001b[1;32m   2052\u001b[0m       \u001b[0mcontrol_flow_util\u001b[0m\u001b[0;34m.\u001b[0m\u001b[0mCheckInputFromValidContext\u001b[0m\u001b[0;34m(\u001b[0m\u001b[0mself\u001b[0m\u001b[0;34m,\u001b[0m \u001b[0minput_tensor\u001b[0m\u001b[0;34m.\u001b[0m\u001b[0mop\u001b[0m\u001b[0;34m)\u001b[0m\u001b[0;34m\u001b[0m\u001b[0;34m\u001b[0m\u001b[0m\n\u001b[1;32m   2053\u001b[0m     \u001b[0;32mif\u001b[0m \u001b[0mself\u001b[0m\u001b[0;34m.\u001b[0m\u001b[0m_control_flow_context\u001b[0m \u001b[0;32mis\u001b[0m \u001b[0;32mnot\u001b[0m \u001b[0;32mNone\u001b[0m\u001b[0;34m:\u001b[0m\u001b[0;34m\u001b[0m\u001b[0;34m\u001b[0m\u001b[0m\n",
            "\u001b[0;32m/usr/local/lib/python3.6/dist-packages/tensorflow/python/framework/ops.py\u001b[0m in \u001b[0;36minputs\u001b[0;34m(self)\u001b[0m\n\u001b[1;32m   2413\u001b[0m \u001b[0;31m# pylint: enable=protected-access\u001b[0m\u001b[0;34m\u001b[0m\u001b[0;34m\u001b[0m\u001b[0;34m\u001b[0m\u001b[0m\n\u001b[1;32m   2414\u001b[0m \u001b[0;34m\u001b[0m\u001b[0m\n\u001b[0;32m-> 2415\u001b[0;31m   \u001b[0;34m@\u001b[0m\u001b[0mproperty\u001b[0m\u001b[0;34m\u001b[0m\u001b[0;34m\u001b[0m\u001b[0m\n\u001b[0m\u001b[1;32m   2416\u001b[0m   \u001b[0;32mdef\u001b[0m \u001b[0minputs\u001b[0m\u001b[0;34m(\u001b[0m\u001b[0mself\u001b[0m\u001b[0;34m)\u001b[0m\u001b[0;34m:\u001b[0m\u001b[0;34m\u001b[0m\u001b[0;34m\u001b[0m\u001b[0m\n\u001b[1;32m   2417\u001b[0m     \u001b[0;34m\"\"\"The list of `Tensor` objects representing the data inputs of this op.\"\"\"\u001b[0m\u001b[0;34m\u001b[0m\u001b[0;34m\u001b[0m\u001b[0m\n",
            "\u001b[0;31mKeyboardInterrupt\u001b[0m: "
          ]
        }
      ]
    },
    {
      "cell_type": "code",
      "metadata": {
        "id": "wvVs5tC8mR6Q",
        "colab_type": "code",
        "outputId": "7e1ab88a-2ac4-4a3a-c0f9-58b1c012aa7f",
        "colab": {
          "base_uri": "https://localhost:8080/",
          "height": 1000
        }
      },
      "source": [
        "model.summary()"
      ],
      "execution_count": 0,
      "outputs": [
        {
          "output_type": "stream",
          "text": [
            "_________________________________________________________________\n",
            "Layer (type)                 Output Shape              Param #   \n",
            "=================================================================\n",
            "conv2d_1 (Conv2D)            (None, 32, 32, 64)        1792      \n",
            "_________________________________________________________________\n",
            "batch_normalization_1 (Batch (None, 32, 32, 64)        256       \n",
            "_________________________________________________________________\n",
            "activation_1 (Activation)    (None, 32, 32, 64)        0         \n",
            "_________________________________________________________________\n",
            "dropout_1 (Dropout)          (None, 32, 32, 64)        0         \n",
            "_________________________________________________________________\n",
            "conv2d_2 (Conv2D)            (None, 32, 32, 96)        55392     \n",
            "_________________________________________________________________\n",
            "batch_normalization_2 (Batch (None, 32, 32, 96)        384       \n",
            "_________________________________________________________________\n",
            "activation_2 (Activation)    (None, 32, 32, 96)        0         \n",
            "_________________________________________________________________\n",
            "dropout_2 (Dropout)          (None, 32, 32, 96)        0         \n",
            "_________________________________________________________________\n",
            "conv2d_3 (Conv2D)            (None, 32, 32, 112)       96880     \n",
            "_________________________________________________________________\n",
            "batch_normalization_3 (Batch (None, 32, 32, 112)       448       \n",
            "_________________________________________________________________\n",
            "activation_3 (Activation)    (None, 32, 32, 112)       0         \n",
            "_________________________________________________________________\n",
            "dropout_3 (Dropout)          (None, 32, 32, 112)       0         \n",
            "_________________________________________________________________\n",
            "conv2d_4 (Conv2D)            (None, 32, 32, 64)        7232      \n",
            "_________________________________________________________________\n",
            "max_pooling2d_1 (MaxPooling2 (None, 16, 16, 64)        0         \n",
            "_________________________________________________________________\n",
            "conv2d_5 (Conv2D)            (None, 16, 16, 96)        55392     \n",
            "_________________________________________________________________\n",
            "batch_normalization_4 (Batch (None, 16, 16, 96)        384       \n",
            "_________________________________________________________________\n",
            "activation_4 (Activation)    (None, 16, 16, 96)        0         \n",
            "_________________________________________________________________\n",
            "dropout_4 (Dropout)          (None, 16, 16, 96)        0         \n",
            "_________________________________________________________________\n",
            "conv2d_6 (Conv2D)            (None, 16, 16, 112)       96880     \n",
            "_________________________________________________________________\n",
            "batch_normalization_5 (Batch (None, 16, 16, 112)       448       \n",
            "_________________________________________________________________\n",
            "activation_5 (Activation)    (None, 16, 16, 112)       0         \n",
            "_________________________________________________________________\n",
            "dropout_5 (Dropout)          (None, 16, 16, 112)       0         \n",
            "_________________________________________________________________\n",
            "conv2d_7 (Conv2D)            (None, 16, 16, 64)        7232      \n",
            "_________________________________________________________________\n",
            "max_pooling2d_2 (MaxPooling2 (None, 8, 8, 64)          0         \n",
            "_________________________________________________________________\n",
            "conv2d_8 (Conv2D)            (None, 8, 8, 96)          55392     \n",
            "_________________________________________________________________\n",
            "batch_normalization_6 (Batch (None, 8, 8, 96)          384       \n",
            "_________________________________________________________________\n",
            "activation_6 (Activation)    (None, 8, 8, 96)          0         \n",
            "_________________________________________________________________\n",
            "dropout_6 (Dropout)          (None, 8, 8, 96)          0         \n",
            "_________________________________________________________________\n",
            "conv2d_9 (Conv2D)            (None, 8, 8, 112)         96880     \n",
            "_________________________________________________________________\n",
            "batch_normalization_7 (Batch (None, 8, 8, 112)         448       \n",
            "_________________________________________________________________\n",
            "activation_7 (Activation)    (None, 8, 8, 112)         0         \n",
            "_________________________________________________________________\n",
            "dropout_7 (Dropout)          (None, 8, 8, 112)         0         \n",
            "_________________________________________________________________\n",
            "conv2d_10 (Conv2D)           (None, 8, 8, 124)         125116    \n",
            "_________________________________________________________________\n",
            "batch_normalization_8 (Batch (None, 8, 8, 124)         496       \n",
            "_________________________________________________________________\n",
            "activation_8 (Activation)    (None, 8, 8, 124)         0         \n",
            "_________________________________________________________________\n",
            "dropout_8 (Dropout)          (None, 8, 8, 124)         0         \n",
            "_________________________________________________________________\n",
            "conv2d_11 (Conv2D)           (None, 8, 8, 10)          1250      \n",
            "_________________________________________________________________\n",
            "conv2d_12 (Conv2D)           (None, 1, 1, 10)          6410      \n",
            "_________________________________________________________________\n",
            "flatten_1 (Flatten)          (None, 10)                0         \n",
            "_________________________________________________________________\n",
            "activation_9 (Activation)    (None, 10)                0         \n",
            "=================================================================\n",
            "Total params: 609,096\n",
            "Trainable params: 607,472\n",
            "Non-trainable params: 1,624\n",
            "_________________________________________________________________\n"
          ],
          "name": "stdout"
        }
      ]
    },
    {
      "cell_type": "markdown",
      "metadata": {
        "id": "YXJX8rXXVBC_",
        "colab_type": "text"
      },
      "source": [
        "## Cyclic Learning Rate"
      ]
    },
    {
      "cell_type": "code",
      "metadata": {
        "id": "E1Wbss6H49Qc",
        "colab_type": "code",
        "colab": {}
      },
      "source": [
        "from keras.callbacks import *\n",
        "\n",
        "class CyclicLR(Callback):\n",
        "    \"\"\"This callback implements a cyclical learning rate policy (CLR).\n",
        "    The method cycles the learning rate between two boundaries with\n",
        "    some constant frequency, as detailed in this paper (https://arxiv.org/abs/1506.01186).\n",
        "    The amplitude of the cycle can be scaled on a per-iteration or \n",
        "    per-cycle basis.\n",
        "    This class has three built-in policies, as put forth in the paper.\n",
        "    \"triangular\":\n",
        "        A basic triangular cycle w/ no amplitude scaling.\n",
        "    \"triangular2\":\n",
        "        A basic triangular cycle that scales initial amplitude by half each cycle.\n",
        "    \"exp_range\":\n",
        "        A cycle that scales initial amplitude by gamma**(cycle iterations) at each \n",
        "        cycle iteration.\n",
        "    For more detail, please see paper.\n",
        "    \n",
        "    # Example\n",
        "        ```python\n",
        "            clr = CyclicLR(base_lr=0.001, max_lr=0.006,\n",
        "                                step_size=2000., mode='triangular')\n",
        "            model.fit(X_train, Y_train, callbacks=[clr])\n",
        "        ```\n",
        "    \n",
        "    Class also supports custom scaling functions:\n",
        "        ```python\n",
        "            clr_fn = lambda x: 0.5*(1+np.sin(x*np.pi/2.))\n",
        "            clr = CyclicLR(base_lr=0.001, max_lr=0.006,\n",
        "                                step_size=2000., scale_fn=clr_fn,\n",
        "                                scale_mode='cycle')\n",
        "            model.fit(X_train, Y_train, callbacks=[clr])\n",
        "        ```    \n",
        "    # Arguments\n",
        "        base_lr: initial learning rate which is the\n",
        "            lower boundary in the cycle.\n",
        "        max_lr: upper boundary in the cycle. Functionally,\n",
        "            it defines the cycle amplitude (max_lr - base_lr).\n",
        "            The lr at any cycle is the sum of base_lr\n",
        "            and some scaling of the amplitude; therefore \n",
        "            max_lr may not actually be reached depending on\n",
        "            scaling function.\n",
        "        step_size: number of training iterations per\n",
        "            half cycle. Authors suggest setting step_size\n",
        "            2-8 x training iterations in epoch.\n",
        "        mode: one of {triangular, triangular2, exp_range}.\n",
        "            Default 'triangular'.\n",
        "            Values correspond to policies detailed above.\n",
        "            If scale_fn is not None, this argument is ignored.\n",
        "        gamma: constant in 'exp_range' scaling function:\n",
        "            gamma**(cycle iterations)\n",
        "        scale_fn: Custom scaling policy defined by a single\n",
        "            argument lambda function, where \n",
        "            0 <= scale_fn(x) <= 1 for all x >= 0.\n",
        "            mode paramater is ignored \n",
        "        scale_mode: {'cycle', 'iterations'}.\n",
        "            Defines whether scale_fn is evaluated on \n",
        "            cycle number or cycle iterations (training\n",
        "            iterations since start of cycle). Default is 'cycle'.\n",
        "    \"\"\"\n",
        "\n",
        "    def __init__(self, base_lr=0.001, max_lr=0.006, step_size=2000., mode='triangular',\n",
        "                 gamma=1., scale_fn=None, scale_mode='cycle'):\n",
        "        super(CyclicLR, self).__init__()\n",
        "\n",
        "        self.base_lr = base_lr\n",
        "        self.max_lr = max_lr\n",
        "        self.step_size = step_size\n",
        "        self.mode = mode\n",
        "        self.gamma = gamma\n",
        "        if scale_fn == None:\n",
        "            if self.mode == 'triangular':\n",
        "                self.scale_fn = lambda x: 1.\n",
        "                self.scale_mode = 'cycle'\n",
        "            elif self.mode == 'triangular2':\n",
        "                self.scale_fn = lambda x: 1/(2.**(x-1))\n",
        "                self.scale_mode = 'cycle'\n",
        "            elif self.mode == 'exp_range':\n",
        "                self.scale_fn = lambda x: gamma**(x)\n",
        "                self.scale_mode = 'iterations'\n",
        "        else:\n",
        "            self.scale_fn = scale_fn\n",
        "            self.scale_mode = scale_mode\n",
        "        self.clr_iterations = 0.\n",
        "        self.trn_iterations = 0.\n",
        "        self.history = {}\n",
        "\n",
        "        self._reset()\n",
        "\n",
        "    def _reset(self, new_base_lr=None, new_max_lr=None,\n",
        "               new_step_size=None):\n",
        "        \"\"\"Resets cycle iterations.\n",
        "        Optional boundary/step size adjustment.\n",
        "        \"\"\"\n",
        "        if new_base_lr != None:\n",
        "            self.base_lr = new_base_lr\n",
        "        if new_max_lr != None:\n",
        "            self.max_lr = new_max_lr\n",
        "        if new_step_size != None:\n",
        "            self.step_size = new_step_size\n",
        "        self.clr_iterations = 0.\n",
        "        \n",
        "    def clr(self):\n",
        "        cycle = np.floor(1+self.clr_iterations/(2*self.step_size))\n",
        "        x = np.abs(self.clr_iterations/self.step_size - 2*cycle + 1)\n",
        "        if self.scale_mode == 'cycle':\n",
        "            return self.base_lr + (self.max_lr-self.base_lr)*np.maximum(0, (1-x))*self.scale_fn(cycle)\n",
        "        else:\n",
        "            return self.base_lr + (self.max_lr-self.base_lr)*np.maximum(0, (1-x))*self.scale_fn(self.clr_iterations)\n",
        "        \n",
        "    def on_train_begin(self, logs={}):\n",
        "        logs = logs or {}\n",
        "\n",
        "        if self.clr_iterations == 0:\n",
        "            K.set_value(self.model.optimizer.lr, self.base_lr)\n",
        "        else:\n",
        "            K.set_value(self.model.optimizer.lr, self.clr())        \n",
        "            \n",
        "    def on_batch_end(self, epoch, logs=None):\n",
        "        \n",
        "        logs = logs or {}\n",
        "        self.trn_iterations += 1\n",
        "        self.clr_iterations += 1\n",
        "\n",
        "        self.history.setdefault('lr', []).append(K.get_value(self.model.optimizer.lr))\n",
        "        self.history.setdefault('iterations', []).append(self.trn_iterations)\n",
        "\n",
        "        for k, v in logs.items():\n",
        "            self.history.setdefault(k, []).append(v)\n",
        "        \n",
        "        K.set_value(self.model.optimizer.lr, self.clr())"
      ],
      "execution_count": 0,
      "outputs": []
    },
    {
      "cell_type": "markdown",
      "metadata": {
        "id": "6Y0zotYDrfyK",
        "colab_type": "text"
      },
      "source": [
        "## Training"
      ]
    },
    {
      "cell_type": "code",
      "metadata": {
        "id": "hVz16vNsIhiN",
        "colab_type": "code",
        "colab": {}
      },
      "source": [
        "# Model Checkpoint which will be used as callback parameter value for saving the model weights\n",
        "# whenever there is an improvement in validation accuracy\n",
        "from keras.callbacks import ModelCheckpoint\n",
        "filepath = r'/content/drive/My Drive/EVA-MachineLearning/Assignment-6A-model_weights.hdf5'\n",
        "checkpoint = ModelCheckpoint(filepath,\n",
        "                            monitor='val_acc',\n",
        "                            verbose=1,\n",
        "                            save_best_only=True,\n",
        "                            mode='max', period=1)"
      ],
      "execution_count": 0,
      "outputs": []
    },
    {
      "cell_type": "code",
      "metadata": {
        "id": "5oK_V7WyfsXX",
        "colab_type": "code",
        "outputId": "e436af0d-2c55-4c3b-fcb4-a94db897eaba",
        "colab": {
          "base_uri": "https://localhost:8080/",
          "height": 1000
        }
      },
      "source": [
        "from keras.preprocessing.image import ImageDataGenerator\n",
        "\n",
        "datagen = ImageDataGenerator()\n",
        "\n",
        "\n",
        "#Initialize Cyclic Learning Rate\n",
        "from keras.callbacks import *\n",
        "clr_triangular = CyclicLR(mode='triangular')\n",
        "\n",
        "# train the model\n",
        "start = time.time()\n",
        "# Train the model\n",
        "model_info = model.fit_generator(datagen.flow(train_features, train_labels, batch_size = 256),\n",
        "                                 callbacks=[clr_triangular,checkpoint],\n",
        "                                 samples_per_epoch = train_features.shape[0], nb_epoch = 80, \n",
        "                                 validation_data = (test_features, test_labels), verbose=1)\n",
        "end = time.time()\n",
        "print (\"Model took %0.2f seconds to train\"%(end - start))\n",
        "# plot model history\n",
        "plot_model_history(model_info)\n",
        "# compute test accuracy\n",
        "print (\"Accuracy on test data is: %0.2f\"%accuracy(test_features, test_labels, model))"
      ],
      "execution_count": 0,
      "outputs": [
        {
          "output_type": "stream",
          "text": [
            "/usr/local/lib/python3.6/dist-packages/ipykernel_launcher.py:16: UserWarning: The semantics of the Keras 2 argument `steps_per_epoch` is not the same as the Keras 1 argument `samples_per_epoch`. `steps_per_epoch` is the number of batches to draw from the generator at each epoch. Basically steps_per_epoch = samples_per_epoch/batch_size. Similarly `nb_val_samples`->`validation_steps` and `val_samples`->`steps` arguments have changed. Update your method calls accordingly.\n",
            "  app.launch_new_instance()\n",
            "/usr/local/lib/python3.6/dist-packages/ipykernel_launcher.py:16: UserWarning: Update your `fit_generator` call to the Keras 2 API: `fit_generator(<keras_pre..., callbacks=[<__main__..., validation_data=(array([[[..., verbose=1, steps_per_epoch=195, epochs=80)`\n",
            "  app.launch_new_instance()\n"
          ],
          "name": "stderr"
        },
        {
          "output_type": "stream",
          "text": [
            "Epoch 1/80\n",
            "195/195 [==============================] - 65s 332ms/step - loss: 1.4355 - acc: 0.4790 - val_loss: 1.2951 - val_acc: 0.5332\n",
            "\n",
            "Epoch 00001: val_acc improved from -inf to 0.53320, saving model to /content/drive/My Drive/EVA-MachineLearning/Assignment-6A-model_weights.hdf5\n",
            "Epoch 2/80\n",
            "195/195 [==============================] - 64s 328ms/step - loss: 0.9517 - acc: 0.6598 - val_loss: 1.3169 - val_acc: 0.5695\n",
            "\n",
            "Epoch 00002: val_acc improved from 0.53320 to 0.56950, saving model to /content/drive/My Drive/EVA-MachineLearning/Assignment-6A-model_weights.hdf5\n",
            "Epoch 3/80\n",
            "195/195 [==============================] - 63s 324ms/step - loss: 0.7574 - acc: 0.7353 - val_loss: 1.7231 - val_acc: 0.4953\n",
            "\n",
            "Epoch 00003: val_acc did not improve from 0.56950\n",
            "Epoch 4/80\n",
            "195/195 [==============================] - 63s 324ms/step - loss: 0.6552 - acc: 0.7719 - val_loss: 1.0842 - val_acc: 0.6516\n",
            "\n",
            "Epoch 00004: val_acc improved from 0.56950 to 0.65160, saving model to /content/drive/My Drive/EVA-MachineLearning/Assignment-6A-model_weights.hdf5\n",
            "Epoch 5/80\n",
            "195/195 [==============================] - 63s 324ms/step - loss: 0.5698 - acc: 0.8009 - val_loss: 1.3810 - val_acc: 0.5971\n",
            "\n",
            "Epoch 00005: val_acc did not improve from 0.65160\n",
            "Epoch 6/80\n",
            "195/195 [==============================] - 63s 325ms/step - loss: 0.5265 - acc: 0.8169 - val_loss: 0.7885 - val_acc: 0.7438\n",
            "\n",
            "Epoch 00006: val_acc improved from 0.65160 to 0.74380, saving model to /content/drive/My Drive/EVA-MachineLearning/Assignment-6A-model_weights.hdf5\n",
            "Epoch 7/80\n",
            "195/195 [==============================] - 63s 324ms/step - loss: 0.4784 - acc: 0.8322 - val_loss: 1.5926 - val_acc: 0.5413\n",
            "\n",
            "Epoch 00007: val_acc did not improve from 0.74380\n",
            "Epoch 8/80\n",
            "195/195 [==============================] - 63s 324ms/step - loss: 0.4332 - acc: 0.8490 - val_loss: 1.5085 - val_acc: 0.6094\n",
            "\n",
            "Epoch 00008: val_acc did not improve from 0.74380\n",
            "Epoch 9/80\n",
            "195/195 [==============================] - 63s 324ms/step - loss: 0.4054 - acc: 0.8577 - val_loss: 0.9762 - val_acc: 0.7088\n",
            "\n",
            "Epoch 00009: val_acc did not improve from 0.74380\n",
            "Epoch 10/80\n",
            "195/195 [==============================] - 63s 324ms/step - loss: 0.3823 - acc: 0.8657 - val_loss: 1.0545 - val_acc: 0.6719\n",
            "\n",
            "Epoch 00010: val_acc did not improve from 0.74380\n",
            "Epoch 11/80\n",
            "195/195 [==============================] - 63s 324ms/step - loss: 0.3458 - acc: 0.8796 - val_loss: 0.9459 - val_acc: 0.6953\n",
            "\n",
            "Epoch 00011: val_acc did not improve from 0.74380\n",
            "Epoch 12/80\n",
            "195/195 [==============================] - 63s 324ms/step - loss: 0.2987 - acc: 0.8938 - val_loss: 1.9292 - val_acc: 0.5652\n",
            "\n",
            "Epoch 00012: val_acc did not improve from 0.74380\n",
            "Epoch 13/80\n",
            "195/195 [==============================] - 63s 324ms/step - loss: 0.2579 - acc: 0.9091 - val_loss: 0.6374 - val_acc: 0.8024\n",
            "\n",
            "Epoch 00013: val_acc improved from 0.74380 to 0.80240, saving model to /content/drive/My Drive/EVA-MachineLearning/Assignment-6A-model_weights.hdf5\n",
            "Epoch 14/80\n",
            " 79/195 [===========>..................] - ETA: 35s - loss: 0.2088 - acc: 0.9274"
          ],
          "name": "stdout"
        }
      ]
    },
    {
      "cell_type": "markdown",
      "metadata": {
        "id": "mlwpU7MWQpCR",
        "colab_type": "text"
      },
      "source": [
        "# Training With Cutout"
      ]
    },
    {
      "cell_type": "code",
      "metadata": {
        "id": "YbaZNW2HmVjH",
        "colab_type": "code",
        "colab": {}
      },
      "source": [
        "def get_random_eraser(p=0.5, s_l=0.02, s_h=0.4, r_1=0.3, r_2=1/0.3, v_l=0, v_h=255, pixel_level=False):\n",
        "    def eraser(input_img):\n",
        "        img_h, img_w, img_c = input_img.shape\n",
        "        p_1 = np.random.rand()\n",
        "\n",
        "        if p_1 > p:\n",
        "            return input_img\n",
        "\n",
        "        while True:\n",
        "            s = np.random.uniform(s_l, s_h) * img_h * img_w\n",
        "            r = np.random.uniform(r_1, r_2)\n",
        "            w = int(np.sqrt(s / r))\n",
        "            h = int(np.sqrt(s * r))\n",
        "            left = np.random.randint(0, img_w)\n",
        "            top = np.random.randint(0, img_h)\n",
        "\n",
        "            if left + w <= img_w and top + h <= img_h:\n",
        "                break\n",
        "\n",
        "        if pixel_level:\n",
        "            c = np.random.uniform(v_l, v_h, (h, w, img_c))\n",
        "        else:\n",
        "            c = np.random.uniform(v_l, v_h)\n",
        "\n",
        "        input_img[top:top + h, left:left + w, :] = c\n",
        "\n",
        "        return input_img\n",
        "\n",
        "    return eraser"
      ],
      "execution_count": 0,
      "outputs": []
    },
    {
      "cell_type": "code",
      "metadata": {
        "id": "FX_SKErklCzM",
        "colab_type": "code",
        "colab": {}
      },
      "source": [
        "from keras.callbacks import ModelCheckpoint\n",
        "filepath = r'/content/drive/My Drive/EVA-MachineLearning/Assignment-6A-model_weights_after_cutout.hdf5'\n",
        "checkpoint = ModelCheckpoint(filepath,\n",
        "                            monitor='val_acc',\n",
        "                            verbose=1,\n",
        "                            save_best_only=True,\n",
        "                            mode='max', period=1)"
      ],
      "execution_count": 0,
      "outputs": []
    },
    {
      "cell_type": "code",
      "metadata": {
        "id": "YrCxaXMmlRFI",
        "colab_type": "code",
        "colab": {
          "base_uri": "https://localhost:8080/",
          "height": 1000
        },
        "outputId": "b0b5e965-7f34-4558-9e2e-5d5fbd17ced2"
      },
      "source": [
        "from keras.preprocessing.image import ImageDataGenerator\n",
        "\n",
        "datagen = ImageDataGenerator(preprocessing_function=get_random_eraser(v_l=0, v_h=1))\n",
        "\n",
        "\n",
        "#Initialize Cyclic Learning Rate\n",
        "from keras.callbacks import *\n",
        "clr_triangular = CyclicLR(mode='triangular')\n",
        "\n",
        "# train the model\n",
        "start = time.time()\n",
        "# Train the model\n",
        "model_info = saved_model.fit_generator(datagen.flow(train_features, train_labels, batch_size = 256),\n",
        "                                 callbacks=[clr_triangular,checkpoint],\n",
        "                                 samples_per_epoch = train_features.shape[0], nb_epoch = 50, \n",
        "                                 validation_data = (test_features, test_labels), verbose=1)\n",
        "end = time.time()\n",
        "print (\"Model took %0.2f seconds to train\"%(end - start))\n",
        "# plot model history\n",
        "plot_model_history(model_info)\n",
        "# compute test accuracy\n",
        "print (\"Accuracy on test data is: %0.2f\"%accuracy(test_features, test_labels, saved_model))"
      ],
      "execution_count": 151,
      "outputs": [
        {
          "output_type": "stream",
          "text": [
            "/usr/local/lib/python3.6/dist-packages/ipykernel_launcher.py:16: UserWarning: The semantics of the Keras 2 argument `steps_per_epoch` is not the same as the Keras 1 argument `samples_per_epoch`. `steps_per_epoch` is the number of batches to draw from the generator at each epoch. Basically steps_per_epoch = samples_per_epoch/batch_size. Similarly `nb_val_samples`->`validation_steps` and `val_samples`->`steps` arguments have changed. Update your method calls accordingly.\n",
            "  app.launch_new_instance()\n",
            "/usr/local/lib/python3.6/dist-packages/ipykernel_launcher.py:16: UserWarning: Update your `fit_generator` call to the Keras 2 API: `fit_generator(<keras_pre..., callbacks=[<__main__..., validation_data=(array([[[..., verbose=1, steps_per_epoch=195, epochs=50)`\n",
            "  app.launch_new_instance()\n"
          ],
          "name": "stderr"
        },
        {
          "output_type": "stream",
          "text": [
            "Epoch 1/50\n",
            "  2/195 [..............................] - ETA: 5:54 - loss: 0.4299 - acc: 0.8984"
          ],
          "name": "stdout"
        },
        {
          "output_type": "stream",
          "text": [
            "/usr/local/lib/python3.6/dist-packages/keras/callbacks.py:122: UserWarning: Method on_batch_end() is slow compared to the batch update (0.470898). Check your callbacks.\n",
            "  % delta_t_median)\n"
          ],
          "name": "stderr"
        },
        {
          "output_type": "stream",
          "text": [
            "195/195 [==============================] - 68s 351ms/step - loss: 0.3005 - acc: 0.9026 - val_loss: 0.5952 - val_acc: 0.8327\n",
            "\n",
            "Epoch 00001: val_acc improved from -inf to 0.83270, saving model to /content/drive/My Drive/EVA-MachineLearning/Assignment-6A-model_weights_after_cutout.hdf5\n",
            "Epoch 2/50\n",
            "195/195 [==============================] - 64s 328ms/step - loss: 0.2398 - acc: 0.9175 - val_loss: 0.6243 - val_acc: 0.8213\n",
            "\n",
            "Epoch 00002: val_acc did not improve from 0.83270\n",
            "Epoch 3/50\n",
            "195/195 [==============================] - 64s 328ms/step - loss: 0.2530 - acc: 0.9120 - val_loss: 0.5499 - val_acc: 0.8321\n",
            "\n",
            "Epoch 00003: val_acc did not improve from 0.83270\n",
            "Epoch 4/50\n",
            "195/195 [==============================] - 64s 328ms/step - loss: 0.2613 - acc: 0.9073 - val_loss: 0.7134 - val_acc: 0.8007\n",
            "\n",
            "Epoch 00004: val_acc did not improve from 0.83270\n",
            "Epoch 5/50\n",
            "195/195 [==============================] - 64s 328ms/step - loss: 0.2793 - acc: 0.9012 - val_loss: 0.8019 - val_acc: 0.7893\n",
            "\n",
            "Epoch 00005: val_acc did not improve from 0.83270\n",
            "Epoch 6/50\n",
            "195/195 [==============================] - 64s 328ms/step - loss: 0.2894 - acc: 0.8974 - val_loss: 0.9887 - val_acc: 0.7345\n",
            "\n",
            "Epoch 00006: val_acc did not improve from 0.83270\n",
            "Epoch 7/50\n",
            "195/195 [==============================] - 64s 328ms/step - loss: 0.3019 - acc: 0.8932 - val_loss: 0.8755 - val_acc: 0.7625\n",
            "\n",
            "Epoch 00007: val_acc did not improve from 0.83270\n",
            "Epoch 8/50\n",
            "195/195 [==============================] - 64s 328ms/step - loss: 0.3019 - acc: 0.8943 - val_loss: 0.8384 - val_acc: 0.7635\n",
            "\n",
            "Epoch 00008: val_acc did not improve from 0.83270\n",
            "Epoch 9/50\n",
            "195/195 [==============================] - 64s 327ms/step - loss: 0.3188 - acc: 0.8884 - val_loss: 0.6705 - val_acc: 0.8101\n",
            "\n",
            "Epoch 00009: val_acc did not improve from 0.83270\n",
            "Epoch 10/50\n",
            "195/195 [==============================] - 64s 327ms/step - loss: 0.3109 - acc: 0.8911 - val_loss: 0.9041 - val_acc: 0.7543\n",
            "\n",
            "Epoch 00010: val_acc did not improve from 0.83270\n",
            "Epoch 11/50\n",
            "195/195 [==============================] - 64s 328ms/step - loss: 0.3156 - acc: 0.8886 - val_loss: 0.8034 - val_acc: 0.7660\n",
            "\n",
            "Epoch 00011: val_acc did not improve from 0.83270\n",
            "Epoch 12/50\n",
            "195/195 [==============================] - 64s 327ms/step - loss: 0.2889 - acc: 0.8977 - val_loss: 0.9076 - val_acc: 0.7605\n",
            "\n",
            "Epoch 00012: val_acc did not improve from 0.83270\n",
            "Epoch 13/50\n",
            "195/195 [==============================] - 64s 328ms/step - loss: 0.2619 - acc: 0.9076 - val_loss: 0.7370 - val_acc: 0.7862\n",
            "\n",
            "Epoch 00013: val_acc did not improve from 0.83270\n",
            "Epoch 14/50\n",
            "195/195 [==============================] - 64s 328ms/step - loss: 0.2345 - acc: 0.9166 - val_loss: 0.5833 - val_acc: 0.8242\n",
            "\n",
            "Epoch 00014: val_acc did not improve from 0.83270\n",
            "Epoch 15/50\n",
            "195/195 [==============================] - 64s 328ms/step - loss: 0.2079 - acc: 0.9276 - val_loss: 0.6338 - val_acc: 0.8361\n",
            "\n",
            "Epoch 00015: val_acc improved from 0.83270 to 0.83610, saving model to /content/drive/My Drive/EVA-MachineLearning/Assignment-6A-model_weights_after_cutout.hdf5\n",
            "Epoch 16/50\n",
            "195/195 [==============================] - 64s 328ms/step - loss: 0.1943 - acc: 0.9321 - val_loss: 0.4979 - val_acc: 0.8592\n",
            "\n",
            "Epoch 00016: val_acc improved from 0.83610 to 0.85920, saving model to /content/drive/My Drive/EVA-MachineLearning/Assignment-6A-model_weights_after_cutout.hdf5\n",
            "Epoch 17/50\n",
            "195/195 [==============================] - 64s 328ms/step - loss: 0.1684 - acc: 0.9410 - val_loss: 0.6457 - val_acc: 0.8293\n",
            "\n",
            "Epoch 00017: val_acc did not improve from 0.85920\n",
            "Epoch 18/50\n",
            "195/195 [==============================] - 64s 328ms/step - loss: 0.1533 - acc: 0.9457 - val_loss: 0.5835 - val_acc: 0.8449\n",
            "\n",
            "Epoch 00018: val_acc did not improve from 0.85920\n",
            "Epoch 19/50\n",
            "195/195 [==============================] - 64s 328ms/step - loss: 0.1383 - acc: 0.9511 - val_loss: 0.5124 - val_acc: 0.8631\n",
            "\n",
            "Epoch 00019: val_acc improved from 0.85920 to 0.86310, saving model to /content/drive/My Drive/EVA-MachineLearning/Assignment-6A-model_weights_after_cutout.hdf5\n",
            "Epoch 20/50\n",
            "195/195 [==============================] - 64s 328ms/step - loss: 0.1240 - acc: 0.9576 - val_loss: 0.4732 - val_acc: 0.8750\n",
            "\n",
            "Epoch 00020: val_acc improved from 0.86310 to 0.87500, saving model to /content/drive/My Drive/EVA-MachineLearning/Assignment-6A-model_weights_after_cutout.hdf5\n",
            "Epoch 21/50\n",
            "195/195 [==============================] - 64s 328ms/step - loss: 0.1157 - acc: 0.9615 - val_loss: 0.4576 - val_acc: 0.8795\n",
            "\n",
            "Epoch 00021: val_acc improved from 0.87500 to 0.87950, saving model to /content/drive/My Drive/EVA-MachineLearning/Assignment-6A-model_weights_after_cutout.hdf5\n",
            "Epoch 22/50\n",
            "195/195 [==============================] - 64s 327ms/step - loss: 0.1100 - acc: 0.9626 - val_loss: 0.4985 - val_acc: 0.8720\n",
            "\n",
            "Epoch 00022: val_acc did not improve from 0.87950\n",
            "Epoch 23/50\n",
            "195/195 [==============================] - 64s 328ms/step - loss: 0.1270 - acc: 0.9566 - val_loss: 0.5114 - val_acc: 0.8638\n",
            "\n",
            "Epoch 00023: val_acc did not improve from 0.87950\n",
            "Epoch 24/50\n",
            "195/195 [==============================] - 64s 327ms/step - loss: 0.1443 - acc: 0.9492 - val_loss: 0.5550 - val_acc: 0.8498\n",
            "\n",
            "Epoch 00024: val_acc did not improve from 0.87950\n",
            "Epoch 25/50\n",
            "195/195 [==============================] - 64s 327ms/step - loss: 0.1591 - acc: 0.9443 - val_loss: 1.0916 - val_acc: 0.7569\n",
            "\n",
            "Epoch 00025: val_acc did not improve from 0.87950\n",
            "Epoch 26/50\n",
            "195/195 [==============================] - 64s 327ms/step - loss: 0.1774 - acc: 0.9384 - val_loss: 0.5696 - val_acc: 0.8411\n",
            "\n",
            "Epoch 00026: val_acc did not improve from 0.87950\n",
            "Epoch 27/50\n",
            "195/195 [==============================] - 64s 328ms/step - loss: 0.1893 - acc: 0.9340 - val_loss: 0.8714 - val_acc: 0.7725\n",
            "\n",
            "Epoch 00027: val_acc did not improve from 0.87950\n",
            "Epoch 28/50\n",
            "195/195 [==============================] - 64s 327ms/step - loss: 0.2083 - acc: 0.9285 - val_loss: 0.6880 - val_acc: 0.8131\n",
            "\n",
            "Epoch 00028: val_acc did not improve from 0.87950\n",
            "Epoch 29/50\n",
            "195/195 [==============================] - 64s 328ms/step - loss: 0.2166 - acc: 0.9236 - val_loss: 0.6502 - val_acc: 0.8125\n",
            "\n",
            "Epoch 00029: val_acc did not improve from 0.87950\n",
            "Epoch 30/50\n",
            "195/195 [==============================] - 64s 327ms/step - loss: 0.2307 - acc: 0.9194 - val_loss: 0.6817 - val_acc: 0.8025\n",
            "\n",
            "Epoch 00030: val_acc did not improve from 0.87950\n",
            "Epoch 31/50\n",
            "195/195 [==============================] - 64s 328ms/step - loss: 0.2419 - acc: 0.9155 - val_loss: 0.9292 - val_acc: 0.7904\n",
            "\n",
            "Epoch 00031: val_acc did not improve from 0.87950\n",
            "Epoch 32/50\n",
            "195/195 [==============================] - 64s 328ms/step - loss: 0.2292 - acc: 0.9201 - val_loss: 0.5747 - val_acc: 0.8352\n",
            "\n",
            "Epoch 00032: val_acc did not improve from 0.87950\n",
            "Epoch 33/50\n",
            "195/195 [==============================] - 64s 328ms/step - loss: 0.2069 - acc: 0.9289 - val_loss: 0.7048 - val_acc: 0.8093\n",
            "\n",
            "Epoch 00033: val_acc did not improve from 0.87950\n",
            "Epoch 34/50\n",
            "195/195 [==============================] - 64s 327ms/step - loss: 0.1766 - acc: 0.9378 - val_loss: 0.7659 - val_acc: 0.8132\n",
            "\n",
            "Epoch 00034: val_acc did not improve from 0.87950\n",
            "Epoch 35/50\n",
            "195/195 [==============================] - 64s 328ms/step - loss: 0.1706 - acc: 0.9408 - val_loss: 0.5393 - val_acc: 0.8618\n",
            "\n",
            "Epoch 00035: val_acc did not improve from 0.87950\n",
            "Epoch 36/50\n",
            "195/195 [==============================] - 64s 328ms/step - loss: 0.1537 - acc: 0.9465 - val_loss: 0.6159 - val_acc: 0.8402\n",
            "\n",
            "Epoch 00036: val_acc did not improve from 0.87950\n",
            "Epoch 37/50\n",
            "195/195 [==============================] - 64s 328ms/step - loss: 0.1410 - acc: 0.9517 - val_loss: 0.5436 - val_acc: 0.8608\n",
            "\n",
            "Epoch 00037: val_acc did not improve from 0.87950\n",
            "Epoch 38/50\n",
            "195/195 [==============================] - 64s 328ms/step - loss: 0.1242 - acc: 0.9577 - val_loss: 0.5517 - val_acc: 0.8635\n",
            "\n",
            "Epoch 00038: val_acc did not improve from 0.87950\n",
            "Epoch 39/50\n",
            "195/195 [==============================] - 64s 327ms/step - loss: 0.1145 - acc: 0.9607 - val_loss: 0.5049 - val_acc: 0.8705\n",
            "\n",
            "Epoch 00039: val_acc did not improve from 0.87950\n",
            "Epoch 40/50\n",
            "195/195 [==============================] - 64s 328ms/step - loss: 0.1085 - acc: 0.9623 - val_loss: 0.4625 - val_acc: 0.8836\n",
            "\n",
            "Epoch 00040: val_acc improved from 0.87950 to 0.88360, saving model to /content/drive/My Drive/EVA-MachineLearning/Assignment-6A-model_weights_after_cutout.hdf5\n",
            "Epoch 41/50\n",
            "195/195 [==============================] - 64s 328ms/step - loss: 0.0937 - acc: 0.9680 - val_loss: 0.4704 - val_acc: 0.8848\n",
            "\n",
            "Epoch 00041: val_acc improved from 0.88360 to 0.88480, saving model to /content/drive/My Drive/EVA-MachineLearning/Assignment-6A-model_weights_after_cutout.hdf5\n",
            "Epoch 42/50\n",
            "195/195 [==============================] - 64s 328ms/step - loss: 0.0877 - acc: 0.9695 - val_loss: 0.5238 - val_acc: 0.8764\n",
            "\n",
            "Epoch 00042: val_acc did not improve from 0.88480\n",
            "Epoch 43/50\n",
            "195/195 [==============================] - 64s 327ms/step - loss: 0.0924 - acc: 0.9691 - val_loss: 0.5648 - val_acc: 0.8714\n",
            "\n",
            "Epoch 00043: val_acc did not improve from 0.88480\n",
            "Epoch 44/50\n",
            "195/195 [==============================] - 64s 327ms/step - loss: 0.1055 - acc: 0.9632 - val_loss: 0.5196 - val_acc: 0.8746\n",
            "\n",
            "Epoch 00044: val_acc did not improve from 0.88480\n",
            "Epoch 45/50\n",
            "195/195 [==============================] - 64s 327ms/step - loss: 0.1138 - acc: 0.9613 - val_loss: 0.5698 - val_acc: 0.8557\n",
            "\n",
            "Epoch 00045: val_acc did not improve from 0.88480\n",
            "Epoch 46/50\n",
            "195/195 [==============================] - 64s 328ms/step - loss: 0.1287 - acc: 0.9551 - val_loss: 0.6726 - val_acc: 0.8388\n",
            "\n",
            "Epoch 00046: val_acc did not improve from 0.88480\n",
            "Epoch 47/50\n",
            "195/195 [==============================] - 64s 328ms/step - loss: 0.1369 - acc: 0.9528 - val_loss: 0.6939 - val_acc: 0.8374\n",
            "\n",
            "Epoch 00047: val_acc did not improve from 0.88480\n",
            "Epoch 48/50\n",
            "195/195 [==============================] - 64s 327ms/step - loss: 0.1577 - acc: 0.9445 - val_loss: 0.6044 - val_acc: 0.8391\n",
            "\n",
            "Epoch 00048: val_acc did not improve from 0.88480\n",
            "Epoch 49/50\n",
            "195/195 [==============================] - 64s 328ms/step - loss: 0.1756 - acc: 0.9378 - val_loss: 0.6081 - val_acc: 0.8454\n",
            "\n",
            "Epoch 00049: val_acc did not improve from 0.88480\n",
            "Epoch 50/50\n",
            "195/195 [==============================] - 64s 327ms/step - loss: 0.1819 - acc: 0.9364 - val_loss: 0.7507 - val_acc: 0.8108\n",
            "\n",
            "Epoch 00050: val_acc did not improve from 0.88480\n",
            "Model took 3228.74 seconds to train\n"
          ],
          "name": "stdout"
        },
        {
          "output_type": "display_data",
          "data": {
            "image/png": "[encoded data removed]",
            "text/plain": [
              "<Figure size 1080x360 with 2 Axes>"
            ]
          },
          "metadata": {
            "tags": []
          }
        },
        {
          "output_type": "stream",
          "text": [
            "Accuracy on test data is: 0.00\n"
          ],
          "name": "stdout"
        },
        {
          "output_type": "stream",
          "text": [
            "/usr/local/lib/python3.6/dist-packages/ipykernel_launcher.py:5: DeprecationWarning: elementwise comparison failed; this will raise an error in the future.\n",
            "  \"\"\"\n"
          ],
          "name": "stderr"
        }
      ]
    },
    {
      "cell_type": "markdown",
      "metadata": {
        "id": "lKkoMIE-RJEd",
        "colab_type": "text"
      },
      "source": [
        "## HeatMap utility functions"
      ]
    },
    {
      "cell_type": "code",
      "metadata": {
        "id": "DOYEqoYORMPM",
        "colab_type": "code",
        "colab": {}
      },
      "source": [
        "import cv2\n",
        "\n",
        "from keras.preprocessing import image\n",
        "from google.colab.patches import cv2_imshow\n",
        "\n",
        "def get_heatmap(conv_layer_output_value, axis=1):\n",
        "  heatmap = np.mean(conv_layer_output_value, axis=-1)\n",
        "  heatmap = np.maximum(heatmap, 0)\n",
        "  heatmap /= np.max(heatmap)\n",
        "  return heatmap\n",
        "\n",
        "def convert_to_png(image_3dim):\n",
        "  '''\n",
        "  accepts 3D image\n",
        "  '''\n",
        "  converted_img = image.image.array_to_img(image_3dim)\n",
        "  converted_img.save('drive/My Drive/EVA-MachineLearning/Assignment_9a_test1.png')\n",
        "  loaded_img = cv2.imread('drive/My Drive/EVA-MachineLearning/Assignment_9a_test1.png')\n",
        "  return loaded_img\n",
        "\n",
        "def predict_class(image, model):\n",
        "  '''\n",
        "  image 4D\n",
        "  '''\n",
        "  class_names = ['airplane','automobile','bird','cat','deer',\n",
        "               'dog','frog','horse','ship','truck']\n",
        "\n",
        "  y_pred = model.predict(image)\n",
        "\n",
        "  # argmax returns the max value in the array\n",
        "  class_idx = np.argmax(np.round(y_pred),axis=1)[0]\n",
        "  print('predicted class: ', class_names[class_idx])\n",
        "  return class_idx\n",
        "\n",
        "def get_conv_layer_output_value(img_four_dim,class_output, last_conv_layer):\n",
        "  grads = K.gradients(class_output, last_conv_layer.output)[0]\n",
        "  pooled_grads = K.mean(grads, axis=(0, 1, 2))\n",
        "  iterate = K.function([saved_model.input], [pooled_grads, last_conv_layer.output[0]])\n",
        "  pooled_grads_value, conv_layer_output_value = iterate([img_four_dim])\n",
        "  for i in range(10):\n",
        "      conv_layer_output_value[:, :, i] *= pooled_grads_value[i]\n",
        "  return conv_layer_output_value\n",
        "\n",
        "def display_img(image, heatmap):\n",
        "  '''\n",
        "  accepts png\n",
        "  '''\n",
        "  \n",
        "  heatmap = cv2.resize(heatmap, (image.shape[1], image.shape[0]))\n",
        "  heatmap = np.uint8(255 * heatmap)\n",
        "  heatmap = cv2.applyColorMap(heatmap, cv2.COLORMAP_JET)\n",
        "  \n",
        "  superimposed_img = cv2.addWeighted(image, 0.6, heatmap, 0.4, 0)\n",
        "  \n",
        "  fig = plt.figure(figsize=(8,3))\n",
        "  ax = fig.add_subplot(2, 2, 1, xticks=[], yticks=[])\n",
        "  plt.imshow(image)\n",
        "  plt.show()\n",
        "  plt.imshow(superimposed_img)\n",
        "  ax = fig.add_subplot(2, 2, 2, xticks=[], yticks=[])\n",
        "\n",
        "  plt.show()\n",
        "  \n",
        "  \n",
        "def display_test_img_with_heat_signs(test_img_index, trained_model):\n",
        "  test_img = test_features[test_img_index]\n",
        "  im_four_dim = np.expand_dims(test_img, axis=0)\n",
        "  class_idx = predict_class(im_four_dim, saved_model)\n",
        "  \n",
        "  class_output = saved_model.output[:, class_idx]\n",
        "  conv_layer_output_value = get_conv_layer_output_value(im_four_dim, class_output, last_conv_layer)\n",
        "  \n",
        "  heatmap = get_heatmap(conv_layer_output_value)\n",
        "  \n",
        "  png_img = convert_to_png(test_img)\n",
        "  \n",
        "  display_img(png_img, heatmap)\n",
        "\n"
      ],
      "execution_count": 0,
      "outputs": []
    },
    {
      "cell_type": "markdown",
      "metadata": {
        "id": "Ro5AhujOQwz8",
        "colab_type": "text"
      },
      "source": [
        "##HeatMap Images with without CutOut"
      ]
    },
    {
      "cell_type": "code",
      "metadata": {
        "id": "a5eCSDL1RDZa",
        "colab_type": "code",
        "outputId": "e390ef06-33ca-4d6f-c58c-5c27da2a64e9",
        "colab": {
          "base_uri": "https://localhost:8080/",
          "height": 35
        }
      },
      "source": [
        "from keras.models import load_model\n",
        "\n",
        "filepath = r'/content/drive/My Drive/EVA-MachineLearning/Assignment-6A-model_weights.hdf5'\n",
        "saved_model = load_model(filepath)\n",
        "# saved_model.summary()\n",
        "\n",
        "last_conv_layer = saved_model.get_layer(\"conv2d_23\")\n",
        "\n",
        "score = saved_model.evaluate(test_features, test_labels, verbose=0)\n",
        "print(score)\n",
        "\n",
        "# for im_three_dim in lst_imgs_three_dim:  \n",
        "#   display_test_img_with_heat_signs(im_three_dim, saved_model)"
      ],
      "execution_count": 54,
      "outputs": [
        {
          "output_type": "stream",
          "text": [
            "[0.5743751900345087, 0.8648]\n"
          ],
          "name": "stdout"
        }
      ]
    },
    {
      "cell_type": "code",
      "metadata": {
        "id": "NGRMFC9fb8S0",
        "colab_type": "code",
        "outputId": "7577a0d4-3c83-46b7-d0d5-021dea4c8695",
        "colab": {
          "base_uri": "https://localhost:8080/",
          "height": 382
        }
      },
      "source": [
        "display_test_img_with_heat_signs(41, saved_model)"
      ],
      "execution_count": 55,
      "outputs": [
        {
          "output_type": "stream",
          "text": [
            "predicted class:  frog\n"
          ],
          "name": "stdout"
        },
        {
          "output_type": "display_data",
          "data": {
            "image/png": "[encoded data removed]",
            "text/plain": [
              "<Figure size 576x216 with 1 Axes>"
            ]
          },
          "metadata": {
            "tags": []
          }
        },
        {
          "output_type": "display_data",
          "data": {
            "image/png": "[encoded data removed]",
            "text/plain": [
              "<Figure size 432x288 with 1 Axes>"
            ]
          },
          "metadata": {
            "tags": []
          }
        }
      ]
    },
    {
      "cell_type": "code",
      "metadata": {
        "id": "U94xQbbDhNZj",
        "colab_type": "code",
        "colab": {
          "base_uri": "https://localhost:8080/",
          "height": 382
        },
        "outputId": "534ad1bc-07ef-40d3-a274-f767b99c0744"
      },
      "source": [
        "display_test_img_with_heat_signs(440, saved_model)"
      ],
      "execution_count": 13,
      "outputs": [
        {
          "output_type": "stream",
          "text": [
            "predicted class:  automobile\n"
          ],
          "name": "stdout"
        },
        {
          "output_type": "display_data",
          "data": {
            "image/png": "[encoded data removed]",
            "text/plain": [
              "<Figure size 576x216 with 1 Axes>"
            ]
          },
          "metadata": {
            "tags": []
          }
        },
        {
          "output_type": "display_data",
          "data": {
            "image/png": "[encoded data removed]",
            "text/plain": [
              "<Figure size 432x288 with 1 Axes>"
            ]
          },
          "metadata": {
            "tags": []
          }
        }
      ]
    },
    {
      "cell_type": "code",
      "metadata": {
        "id": "YWc-hvcfhbyU",
        "colab_type": "code",
        "colab": {
          "base_uri": "https://localhost:8080/",
          "height": 382
        },
        "outputId": "b46f205c-4a13-4028-a93c-7d874e256da8"
      },
      "source": [
        "display_test_img_with_heat_signs(1000, saved_model)"
      ],
      "execution_count": 14,
      "outputs": [
        {
          "output_type": "stream",
          "text": [
            "predicted class:  dog\n"
          ],
          "name": "stdout"
        },
        {
          "output_type": "display_data",
          "data": {
            "image/png": "[encoded data removed]",
            "text/plain": [
              "<Figure size 576x216 with 1 Axes>"
            ]
          },
          "metadata": {
            "tags": []
          }
        },
        {
          "output_type": "display_data",
          "data": {
            "image/png": "[encoded data removed]",
            "text/plain": [
              "<Figure size 432x288 with 1 Axes>"
            ]
          },
          "metadata": {
            "tags": []
          }
        }
      ]
    },
    {
      "cell_type": "code",
      "metadata": {
        "id": "tIMoJ8I4hhcu",
        "colab_type": "code",
        "colab": {
          "base_uri": "https://localhost:8080/",
          "height": 382
        },
        "outputId": "8035c4a1-8fa7-43bc-a9b3-2b84bffdbdd0"
      },
      "source": [
        "display_test_img_with_heat_signs(9999, saved_model)"
      ],
      "execution_count": 29,
      "outputs": [
        {
          "output_type": "stream",
          "text": [
            "predicted class:  horse\n"
          ],
          "name": "stdout"
        },
        {
          "output_type": "display_data",
          "data": {
            "image/png": "[encoded data removed]",
            "text/plain": [
              "<Figure size 576x216 with 1 Axes>"
            ]
          },
          "metadata": {
            "tags": []
          }
        },
        {
          "output_type": "display_data",
          "data": {
            "image/png": "[encoded data removed]",
            "text/plain": [
              "<Figure size 432x288 with 1 Axes>"
            ]
          },
          "metadata": {
            "tags": []
          }
        }
      ]
    },
    {
      "cell_type": "markdown",
      "metadata": {
        "id": "y4XCAqE8Q0ry",
        "colab_type": "text"
      },
      "source": [
        "# HeatMap : Utility Functions & Model Loading"
      ]
    },
    {
      "cell_type": "code",
      "metadata": {
        "id": "2pqFT3rXksYv",
        "colab_type": "code",
        "colab": {
          "base_uri": "https://localhost:8080/",
          "height": 1000
        },
        "outputId": "550065c8-c990-4169-9c8e-2ac31b5f1617"
      },
      "source": [
        "# Load Models with and without CutOut\n",
        "from keras.models import load_model\n",
        "\n",
        "without_cutout_filepath = r'/content/drive/My Drive/EVA-MachineLearning/Assignment-6A-model_weights.hdf5'\n",
        "with_cutout_filepath = r'/content/drive/My Drive/EVA-MachineLearning/Assignment-6A-model_weights_after_cutout.hdf5'\n",
        "model_without_cutout = load_model(without_cutout_filepath)\n",
        "model_with_cutout = load_model(with_cutout_filepath)\n",
        "model_with_cutout.summary()"
      ],
      "execution_count": 59,
      "outputs": [
        {
          "output_type": "stream",
          "text": [
            "_________________________________________________________________\n",
            "Layer (type)                 Output Shape              Param #   \n",
            "=================================================================\n",
            "conv2d_13 (Conv2D)           (None, 32, 32, 64)        1792      \n",
            "_________________________________________________________________\n",
            "batch_normalization_9 (Batch (None, 32, 32, 64)        256       \n",
            "_________________________________________________________________\n",
            "activation_10 (Activation)   (None, 32, 32, 64)        0         \n",
            "_________________________________________________________________\n",
            "dropout_9 (Dropout)          (None, 32, 32, 64)        0         \n",
            "_________________________________________________________________\n",
            "conv2d_14 (Conv2D)           (None, 32, 32, 96)        55392     \n",
            "_________________________________________________________________\n",
            "batch_normalization_10 (Batc (None, 32, 32, 96)        384       \n",
            "_________________________________________________________________\n",
            "activation_11 (Activation)   (None, 32, 32, 96)        0         \n",
            "_________________________________________________________________\n",
            "dropout_10 (Dropout)         (None, 32, 32, 96)        0         \n",
            "_________________________________________________________________\n",
            "conv2d_15 (Conv2D)           (None, 32, 32, 112)       96880     \n",
            "_________________________________________________________________\n",
            "batch_normalization_11 (Batc (None, 32, 32, 112)       448       \n",
            "_________________________________________________________________\n",
            "activation_12 (Activation)   (None, 32, 32, 112)       0         \n",
            "_________________________________________________________________\n",
            "dropout_11 (Dropout)         (None, 32, 32, 112)       0         \n",
            "_________________________________________________________________\n",
            "conv2d_16 (Conv2D)           (None, 32, 32, 64)        7232      \n",
            "_________________________________________________________________\n",
            "max_pooling2d_3 (MaxPooling2 (None, 16, 16, 64)        0         \n",
            "_________________________________________________________________\n",
            "conv2d_17 (Conv2D)           (None, 16, 16, 96)        55392     \n",
            "_________________________________________________________________\n",
            "batch_normalization_12 (Batc (None, 16, 16, 96)        384       \n",
            "_________________________________________________________________\n",
            "activation_13 (Activation)   (None, 16, 16, 96)        0         \n",
            "_________________________________________________________________\n",
            "dropout_12 (Dropout)         (None, 16, 16, 96)        0         \n",
            "_________________________________________________________________\n",
            "conv2d_18 (Conv2D)           (None, 16, 16, 112)       96880     \n",
            "_________________________________________________________________\n",
            "batch_normalization_13 (Batc (None, 16, 16, 112)       448       \n",
            "_________________________________________________________________\n",
            "activation_14 (Activation)   (None, 16, 16, 112)       0         \n",
            "_________________________________________________________________\n",
            "dropout_13 (Dropout)         (None, 16, 16, 112)       0         \n",
            "_________________________________________________________________\n",
            "conv2d_19 (Conv2D)           (None, 16, 16, 64)        7232      \n",
            "_________________________________________________________________\n",
            "max_pooling2d_4 (MaxPooling2 (None, 8, 8, 64)          0         \n",
            "_________________________________________________________________\n",
            "conv2d_20 (Conv2D)           (None, 8, 8, 96)          55392     \n",
            "_________________________________________________________________\n",
            "batch_normalization_14 (Batc (None, 8, 8, 96)          384       \n",
            "_________________________________________________________________\n",
            "activation_15 (Activation)   (None, 8, 8, 96)          0         \n",
            "_________________________________________________________________\n",
            "dropout_14 (Dropout)         (None, 8, 8, 96)          0         \n",
            "_________________________________________________________________\n",
            "conv2d_21 (Conv2D)           (None, 8, 8, 112)         96880     \n",
            "_________________________________________________________________\n",
            "batch_normalization_15 (Batc (None, 8, 8, 112)         448       \n",
            "_________________________________________________________________\n",
            "activation_16 (Activation)   (None, 8, 8, 112)         0         \n",
            "_________________________________________________________________\n",
            "dropout_15 (Dropout)         (None, 8, 8, 112)         0         \n",
            "_________________________________________________________________\n",
            "conv2d_22 (Conv2D)           (None, 8, 8, 124)         125116    \n",
            "_________________________________________________________________\n",
            "batch_normalization_16 (Batc (None, 8, 8, 124)         496       \n",
            "_________________________________________________________________\n",
            "activation_17 (Activation)   (None, 8, 8, 124)         0         \n",
            "_________________________________________________________________\n",
            "dropout_16 (Dropout)         (None, 8, 8, 124)         0         \n",
            "_________________________________________________________________\n",
            "conv2d_23 (Conv2D)           (None, 8, 8, 10)          1250      \n",
            "_________________________________________________________________\n",
            "conv2d_24 (Conv2D)           (None, 1, 1, 10)          6410      \n",
            "_________________________________________________________________\n",
            "flatten_2 (Flatten)          (None, 10)                0         \n",
            "_________________________________________________________________\n",
            "activation_18 (Activation)   (None, 10)                0         \n",
            "=================================================================\n",
            "Total params: 609,096\n",
            "Trainable params: 607,472\n",
            "Non-trainable params: 1,624\n",
            "_________________________________________________________________\n"
          ],
          "name": "stdout"
        }
      ]
    },
    {
      "cell_type": "code",
      "metadata": {
        "id": "wnXZiDdLYoIg",
        "colab_type": "code",
        "colab": {
          "base_uri": "https://localhost:8080/",
          "height": 35
        },
        "outputId": "0864e164-d03c-4e35-bbd6-5f7524fb4b9a"
      },
      "source": [
        "# Evaluate the test features with the 'model without cutout'\n",
        "last_conv_layer = model_without_cutout.get_layer(\"conv2d_23\")\n",
        "score = model_without_cutout.evaluate(test_features, test_labels, verbose=0)\n",
        "print(score)"
      ],
      "execution_count": 72,
      "outputs": [
        {
          "output_type": "stream",
          "text": [
            "[0.5743751900345087, 0.8648]\n"
          ],
          "name": "stdout"
        }
      ]
    },
    {
      "cell_type": "code",
      "metadata": {
        "id": "yUJmU-GigLA9",
        "colab_type": "code",
        "colab": {
          "base_uri": "https://localhost:8080/",
          "height": 35
        },
        "outputId": "c1f26cae-fc07-43b3-8b4d-5a333453739e"
      },
      "source": [
        "# Evaluate the test features with the 'model with cutout'\n",
        "last_conv_layer = model_with_cutout.get_layer(\"conv2d_23\")\n",
        "score = model_with_cutout.evaluate(test_features, test_labels, verbose=0)\n",
        "print(score)"
      ],
      "execution_count": 61,
      "outputs": [
        {
          "output_type": "stream",
          "text": [
            "[0.470429575830698, 0.8848]\n"
          ],
          "name": "stdout"
        }
      ]
    },
    {
      "cell_type": "markdown",
      "metadata": {
        "id": "1J9rgFPTgowc",
        "colab_type": "text"
      },
      "source": [
        "# HeatMap - Frog Class"
      ]
    },
    {
      "cell_type": "code",
      "metadata": {
        "id": "jhGaWUXJZ9_u",
        "colab_type": "code",
        "colab": {
          "base_uri": "https://localhost:8080/",
          "height": 382
        },
        "outputId": "c2cb6700-e25e-4370-c196-d4d6e3389c4c"
      },
      "source": [
        "# Model without Cutout\n",
        "saved_model = model_without_cutout\n",
        "display_test_img_with_heat_signs(41, saved_model)"
      ],
      "execution_count": 73,
      "outputs": [
        {
          "output_type": "stream",
          "text": [
            "predicted class:  frog\n"
          ],
          "name": "stdout"
        },
        {
          "output_type": "display_data",
          "data": {
            "image/png": "[encoded data removed]",
            "text/plain": [
              "<Figure size 576x216 with 1 Axes>"
            ]
          },
          "metadata": {
            "tags": []
          }
        },
        {
          "output_type": "display_data",
          "data": {
            "image/png": "[encoded data removed]",
            "text/plain": [
              "<Figure size 432x288 with 1 Axes>"
            ]
          },
          "metadata": {
            "tags": []
          }
        }
      ]
    },
    {
      "cell_type": "code",
      "metadata": {
        "id": "zULtzcRKim1V",
        "colab_type": "code",
        "colab": {
          "base_uri": "https://localhost:8080/",
          "height": 382
        },
        "outputId": "fd7ec9c7-098b-4b1f-db19-c46ba5bbf82c"
      },
      "source": [
        "# Model with Cutout\n",
        "saved_model = model_with_cutout\n",
        "display_test_img_with_heat_signs(41, saved_model)"
      ],
      "execution_count": 62,
      "outputs": [
        {
          "output_type": "stream",
          "text": [
            "predicted class:  frog\n"
          ],
          "name": "stdout"
        },
        {
          "output_type": "display_data",
          "data": {
            "image/png": "[encoded data removed]",
            "text/plain": [
              "<Figure size 576x216 with 1 Axes>"
            ]
          },
          "metadata": {
            "tags": []
          }
        },
        {
          "output_type": "display_data",
          "data": {
            "image/png": "[encoded data removed]",
            "text/plain": [
              "<Figure size 432x288 with 1 Axes>"
            ]
          },
          "metadata": {
            "tags": []
          }
        }
      ]
    },
    {
      "cell_type": "markdown",
      "metadata": {
        "id": "6WqgIu8xjuig",
        "colab_type": "text"
      },
      "source": [
        "# HeatMap - Dog Class"
      ]
    },
    {
      "cell_type": "code",
      "metadata": {
        "id": "nwA1dsy_dFGN",
        "colab_type": "code",
        "colab": {
          "base_uri": "https://localhost:8080/",
          "height": 382
        },
        "outputId": "3b77beac-8eea-46ce-99a6-5bc315242e17"
      },
      "source": [
        "# Model without Cutout\n",
        "saved_model = model_without_cutout\n",
        "display_test_img_with_heat_signs(1000, saved_model)"
      ],
      "execution_count": 75,
      "outputs": [
        {
          "output_type": "stream",
          "text": [
            "predicted class:  dog\n"
          ],
          "name": "stdout"
        },
        {
          "output_type": "display_data",
          "data": {
            "image/png": "[encoded data removed]",
            "text/plain": [
              "<Figure size 576x216 with 1 Axes>"
            ]
          },
          "metadata": {
            "tags": []
          }
        },
        {
          "output_type": "display_data",
          "data": {
            "image/png": "[encoded data removed]",
            "text/plain": [
              "<Figure size 432x288 with 1 Axes>"
            ]
          },
          "metadata": {
            "tags": []
          }
        }
      ]
    },
    {
      "cell_type": "code",
      "metadata": {
        "id": "3XpsJZSZjOQj",
        "colab_type": "code",
        "colab": {
          "base_uri": "https://localhost:8080/",
          "height": 382
        },
        "outputId": "2a3bd125-d647-4343-f5c3-ea94ec0db807"
      },
      "source": [
        "# Model with Cutout\n",
        "saved_model = model_with_cutout\n",
        "display_test_img_with_heat_signs(1000, saved_model)"
      ],
      "execution_count": 67,
      "outputs": [
        {
          "output_type": "stream",
          "text": [
            "predicted class:  dog\n"
          ],
          "name": "stdout"
        },
        {
          "output_type": "display_data",
          "data": {
            "image/png": "[encoded data removed]",
            "text/plain": [
              "<Figure size 576x216 with 1 Axes>"
            ]
          },
          "metadata": {
            "tags": []
          }
        },
        {
          "output_type": "display_data",
          "data": {
            "image/png": "[encoded data removed]",
            "text/plain": [
              "<Figure size 432x288 with 1 Axes>"
            ]
          },
          "metadata": {
            "tags": []
          }
        }
      ]
    },
    {
      "cell_type": "markdown",
      "metadata": {
        "id": "a3BF7H7ejk_W",
        "colab_type": "text"
      },
      "source": [
        "# HeatMap - Horse class"
      ]
    },
    {
      "cell_type": "code",
      "metadata": {
        "id": "F3J0-P8GdMq9",
        "colab_type": "code",
        "colab": {
          "base_uri": "https://localhost:8080/",
          "height": 382
        },
        "outputId": "85bb9b28-97e3-4fc1-bc92-99eeae2dd35d"
      },
      "source": [
        "# Model without Cutout\n",
        "saved_model = model_without_cutout\n",
        "display_test_img_with_heat_signs(9999, saved_model)"
      ],
      "execution_count": 76,
      "outputs": [
        {
          "output_type": "stream",
          "text": [
            "predicted class:  horse\n"
          ],
          "name": "stdout"
        },
        {
          "output_type": "display_data",
          "data": {
            "image/png": "[encoded data removed]",
            "text/plain": [
              "<Figure size 576x216 with 1 Axes>"
            ]
          },
          "metadata": {
            "tags": []
          }
        },
        {
          "output_type": "display_data",
          "data": {
            "image/png": "[encoded data removed]",
            "text/plain": [
              "<Figure size 432x288 with 1 Axes>"
            ]
          },
          "metadata": {
            "tags": []
          }
        }
      ]
    },
    {
      "cell_type": "code",
      "metadata": {
        "id": "epvr-sBJjbua",
        "colab_type": "code",
        "colab": {
          "base_uri": "https://localhost:8080/",
          "height": 382
        },
        "outputId": "7d41ca07-658f-4e7f-96e1-1c08e391350f"
      },
      "source": [
        "# Model with Cutout\n",
        "saved_model = model_with_cutout\n",
        "display_test_img_with_heat_signs(9999, saved_model)"
      ],
      "execution_count": 70,
      "outputs": [
        {
          "output_type": "stream",
          "text": [
            "predicted class:  horse\n"
          ],
          "name": "stdout"
        },
        {
          "output_type": "display_data",
          "data": {
            "image/png": "[encoded data removed]",
            "text/plain": [
              "<Figure size 576x216 with 1 Axes>"
            ]
          },
          "metadata": {
            "tags": []
          }
        },
        {
          "output_type": "display_data",
          "data": {
            "image/png": "[encoded data removed]",
            "text/plain": [
              "<Figure size 432x288 with 1 Axes>"
            ]
          },
          "metadata": {
            "tags": []
          }
        }
      ]
    },
    {
      "cell_type": "markdown",
      "metadata": {
        "id": "1fRPEScRiq0k",
        "colab_type": "text"
      },
      "source": [
        "#HeatMap - Automobile Class\n",
        "\n",
        "While cutout improved identifying the correct features in above classes significantly, automobile class - proves every class cannot be complemented with a same cutout. May be we have to change cutout for automobile class specifically as we can see automobile class didnt learn much from cutout which we applied"
      ]
    },
    {
      "cell_type": "code",
      "metadata": {
        "id": "R4kssDiec02Z",
        "colab_type": "code",
        "colab": {
          "base_uri": "https://localhost:8080/",
          "height": 382
        },
        "outputId": "dbf2238f-7838-497f-abec-f3786d369417"
      },
      "source": [
        "# Model without Cutout\n",
        "saved_model = model_without_cutout\n",
        "display_test_img_with_heat_signs(440, saved_model)"
      ],
      "execution_count": 74,
      "outputs": [
        {
          "output_type": "stream",
          "text": [
            "predicted class:  automobile\n"
          ],
          "name": "stdout"
        },
        {
          "output_type": "display_data",
          "data": {
            "image/png": "[encoded data removed]",
            "text/plain": [
              "<Figure size 576x216 with 1 Axes>"
            ]
          },
          "metadata": {
            "tags": []
          }
        },
        {
          "output_type": "display_data",
          "data": {
            "image/png": "[encoded data removed]",
            "text/plain": [
              "<Figure size 432x288 with 1 Axes>"
            ]
          },
          "metadata": {
            "tags": []
          }
        }
      ]
    },
    {
      "cell_type": "code",
      "metadata": {
        "id": "xHFUJZLVjGCg",
        "colab_type": "code",
        "colab": {
          "base_uri": "https://localhost:8080/",
          "height": 382
        },
        "outputId": "72cd1216-bef3-4a0e-adb4-bc30434276c2"
      },
      "source": [
        "# Model with Cutout\n",
        "saved_model = model_without_cutout\n",
        "display_test_img_with_heat_signs(440, saved_model)"
      ],
      "execution_count": 65,
      "outputs": [
        {
          "output_type": "stream",
          "text": [
            "predicted class:  automobile\n"
          ],
          "name": "stdout"
        },
        {
          "output_type": "display_data",
          "data": {
            "image/png": "[encoded data removed]",
            "text/plain": [
              "<Figure size 576x216 with 1 Axes>"
            ]
          },
          "metadata": {
            "tags": []
          }
        },
        {
          "output_type": "display_data",
          "data": {
            "image/png": "[encoded data removed]",
            "text/plain": [
              "<Figure size 432x288 with 1 Axes>"
            ]
          },
          "metadata": {
            "tags": []
          }
        }
      ]
    }
  ]
}